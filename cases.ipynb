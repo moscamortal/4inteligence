{
 "cells": [
  {
   "cell_type": "code",
   "execution_count": 2,
   "metadata": {},
   "outputs": [],
   "source": [
    "import pandas as pd\n",
    "import numpy as np\n",
    "import statistics \n",
    "\n",
    "import matplotlib.pyplot as plt\n",
    "import seaborn as sns\n",
    "\n",
    "from pandas.plotting import register_matplotlib_converters\n",
    "register_matplotlib_converters()\n",
    "\n",
    "###\n",
    "from pmdarima.arima import auto_arima\n",
    "import warnings\n",
    "from statsmodels.tools.sm_exceptions import ConvergenceWarning\n",
    "warnings.simplefilter('ignore', ConvergenceWarning)\n",
    "warnings.filterwarnings(\"ignore\", category=UserWarning)\n",
    "warnings.filterwarnings(\"ignore\", category=RuntimeWarning)\n",
    "\n",
    "pd.options.mode.chained_assignment = None \n",
    "\n",
    "plt.style.use('ggplot')\n",
    "%matplotlib inline"
   ]
  },
  {
   "cell_type": "markdown",
   "metadata": {},
   "source": [
    "# Case 1"
   ]
  },
  {
   "cell_type": "markdown",
   "metadata": {},
   "source": [
    "Basically: Analyze the data and predict 10 years"
   ]
  },
  {
   "cell_type": "code",
   "execution_count": null,
   "metadata": {},
   "outputs": [],
   "source": [
    "df1 = pd.read_csv('TFP.csv')\n",
    "df1.year = pd.to_datetime(df1.year,format = '%Y', errors='raise')"
   ]
  },
  {
   "cell_type": "code",
   "execution_count": null,
   "metadata": {},
   "outputs": [],
   "source": [
    "country_grouped = df1.groupby('isocode')\n",
    "df1.head()"
   ]
  },
  {
   "cell_type": "code",
   "execution_count": null,
   "metadata": {
    "scrolled": true
   },
   "outputs": [],
   "source": [
    "fig, ax = plt.subplots(figsize=(8, 4))\n",
    "country_grouped.apply(lambda x: ax.plot(x.year,x.rtfpna, label = x['isocode'].unique()))\n",
    "plt.title('rtfpna behavior over time')\n",
    "plt.xlabel('Years')\n",
    "plt.ylabel('rtfpna')\n",
    "ax.legend()"
   ]
  },
  {
   "cell_type": "markdown",
   "metadata": {},
   "source": [
    "TFP = Total factor productivity"
   ]
  },
  {
   "cell_type": "markdown",
   "metadata": {},
   "source": [
    "It is possible to see that the USA maintained steady growth throughout the historical series, while Mexico saw a fall that almost equaled the level of 1950.\n",
    "\n",
    "Canada advanced laterally over the years with a steady result between 0.9 and 1."
   ]
  },
  {
   "cell_type": "code",
   "execution_count": null,
   "metadata": {},
   "outputs": [],
   "source": [
    "fig, ax = plt.subplots(figsize=(8, 4))\n",
    "country_grouped.apply(lambda x: ax.plot(x.rtfpna.diff().dropna(),label=x.isocode.unique()))\n",
    "plt.title(\"First Difference by Country\")\n",
    "ax.legend()"
   ]
  },
  {
   "cell_type": "markdown",
   "metadata": {},
   "source": [
    "It shows that each country has the data distributed in a different way, the MEX with greater noise (due to its series containing ups and downs), the USA grows constantly (so the data is better behaved) CAN has already presented an average value with some noise."
   ]
  },
  {
   "cell_type": "code",
   "execution_count": null,
   "metadata": {},
   "outputs": [],
   "source": [
    "fig, ax = plt.subplots(figsize=(8, 4))\n",
    "df1.rtfpna.hist()\n",
    "plt.title(\"histogram\")"
   ]
  },
  {
   "cell_type": "markdown",
   "metadata": {},
   "source": [
    "The histogram shows that most values are close to 1 (similar to a normal distribution)"
   ]
  },
  {
   "cell_type": "code",
   "execution_count": null,
   "metadata": {},
   "outputs": [],
   "source": [
    "def predict_country_values(df):\n",
    "    \n",
    "    #country = df1.isocode.unique()[count]\n",
    "    country = df['isocode'].unique()\n",
    "    df.drop(['isocode'],axis=1,inplace=True)\n",
    "    df.apply(lambda x: x.year.year, axis=1)\n",
    "    df.set_index('year',inplace=True)\n",
    "    df.index = df.index.year\n",
    "    \n",
    "    model = auto_arima(df, start_p =1, start_q=1, max_p=6, max_q=6, m=12, start_P=0, seasonal=True, d=1, D=1, error_action='ignore', suppress_warnigs=True, stepwise=True, n_jobs=-1)\n",
    "    \n",
    "    model.fit(df) #Fit the model\n",
    "    prevision = model.predict(n_periods=11) #Forecasting data\n",
    "    prevision = pd.DataFrame(prevision, index=prev, columns=['rtfpna']) #Creating a data frame with forecast data\n",
    "    \n",
    "    fig, ax = plt.subplots(figsize=(8, 4))\n",
    "    pd.concat([df,prevision],axis=1).plot(ax=ax)\n",
    "    ax.legend([\"original\", \"predict\"]);\n",
    "    plt.xlabel(\"years\")\n",
    "    plt.ylabel(\"rtfpna\")\n",
    "    plt.title(\"Preditc \" + country)\n",
    "    print(\"Akaike Information Criterion of model: \"+ str(country) + \" \" + str(\"{:.2f}\".format(model.aic())))\n"
   ]
  },
  {
   "cell_type": "code",
   "execution_count": null,
   "metadata": {},
   "outputs": [],
   "source": [
    "prev = np.arange(2011,2022,1) #Range to predict\n",
    "\n",
    "for i in range(len(df1.isocode.unique())):\n",
    "    df_actual = df1[df1['isocode'] == df1['isocode'].unique()[i]]\n",
    "    predict_country_values(df_actual)"
   ]
  },
  {
   "cell_type": "markdown",
   "metadata": {},
   "source": [
    "The prediction was made using the ARIMA model, where it was used to present the data projection until 2022.\n",
    "\n",
    "The Akaike Information Criterion metric that defines the quality of a model presented different values for each country.\n",
    "\n",
    "Where USA obtained the lowest value, due to its data not being close to an average (not stationary)."
   ]
  },
  {
   "cell_type": "code",
   "execution_count": null,
   "metadata": {},
   "outputs": [],
   "source": []
  },
  {
   "cell_type": "code",
   "execution_count": null,
   "metadata": {},
   "outputs": [],
   "source": []
  },
  {
   "cell_type": "code",
   "execution_count": null,
   "metadata": {},
   "outputs": [],
   "source": []
  },
  {
   "cell_type": "code",
   "execution_count": null,
   "metadata": {},
   "outputs": [],
   "source": []
  },
  {
   "cell_type": "markdown",
   "metadata": {},
   "source": [
    "# Case 2"
   ]
  },
  {
   "cell_type": "markdown",
   "metadata": {},
   "source": [
    "# Pre processing data"
   ]
  },
  {
   "cell_type": "code",
   "execution_count": 6,
   "metadata": {},
   "outputs": [],
   "source": [
    "df = pd.read_csv('data_comexstat.csv', sep=',', encoding = \"ISO-8859-1\")"
   ]
  },
  {
   "cell_type": "code",
   "execution_count": 7,
   "metadata": {},
   "outputs": [],
   "source": [
    "MILLION = 1000000"
   ]
  },
  {
   "cell_type": "code",
   "execution_count": 8,
   "metadata": {
    "scrolled": true
   },
   "outputs": [],
   "source": [
    "df.date = pd.to_datetime(df.date,yearfirst = True, errors='raise')\n",
    "date_grouped = df.set_index('date')"
   ]
  },
  {
   "cell_type": "markdown",
   "metadata": {},
   "source": [
    "# 1 - Evoluation of exports"
   ]
  },
  {
   "cell_type": "code",
   "execution_count": null,
   "metadata": {},
   "outputs": [],
   "source": [
    "#Validation product types and exportacion or importation\n",
    "item_1 = (((date_grouped['product'] == 'soybeans') | (date_grouped['product'] == 'soybean_oil') | (date_grouped['product'] == 'soybean_meal')) & (date_grouped['type'] == 'Export'))\n",
    "sampled_item_1 = date_grouped.apply(lambda x: x[item_1])"
   ]
  },
  {
   "cell_type": "code",
   "execution_count": null,
   "metadata": {},
   "outputs": [],
   "source": [
    "sampled_item_1.head()"
   ]
  },
  {
   "cell_type": "code",
   "execution_count": null,
   "metadata": {},
   "outputs": [],
   "source": [
    "#Sum of exportancion by month\n",
    "exportacion = sampled_item_1['tons'].sum(level='date')/MILLION\n",
    "months = sampled_item_1.index.unique()"
   ]
  },
  {
   "cell_type": "code",
   "execution_count": null,
   "metadata": {},
   "outputs": [],
   "source": [
    "#Plot\n",
    "fig, ax = plt.subplots(figsize=(8, 4))\n",
    "plt.plot(months, exportacion)\n",
    "plt.title('Evolution of exports')\n",
    "plt.xlabel('Month/Year')\n",
    "plt.ylabel('Tonnes (millions)')"
   ]
  },
  {
   "cell_type": "markdown",
   "metadata": {},
   "source": [
    "Exports have increased over the years, and due to the distribution in the graph, it is possible to observe a seasonality in production (some months show a great drop in exports).\n",
    "\n",
    "It is also possible to identify that this is a non-stationary distribution with an upward trend."
   ]
  },
  {
   "cell_type": "markdown",
   "metadata": {},
   "source": [
    "# 2 - Most importante products"
   ]
  },
  {
   "cell_type": "markdown",
   "metadata": {},
   "source": [
    "Most exported product: Soybean.\n",
    "\n",
    "Product with the highest return in dollars: Soybean.\n",
    "\n",
    "Represented to be the most important product for Brazilian exports."
   ]
  },
  {
   "cell_type": "code",
   "execution_count": null,
   "metadata": {},
   "outputs": [],
   "source": [
    "item_2 = ((date_grouped.index.year >= 2014) & (date_grouped['type'] == 'Export'))"
   ]
  },
  {
   "cell_type": "code",
   "execution_count": null,
   "metadata": {},
   "outputs": [],
   "source": [
    "sampled_item_2 = date_grouped.apply(lambda x: x[item_2])"
   ]
  },
  {
   "cell_type": "code",
   "execution_count": null,
   "metadata": {},
   "outputs": [],
   "source": [
    "#Sum values of each product in tonnes and dollars\n",
    "total = sampled_item_2.set_index('product')\n",
    "values_to_plot = total['tons'].sum(level='product')/1000\n",
    "products_by_usd = total['usd'].sum(level='product')/MILLION"
   ]
  },
  {
   "cell_type": "code",
   "execution_count": null,
   "metadata": {},
   "outputs": [],
   "source": [
    "fig, axs = plt.subplots(1, 2, constrained_layout=True,figsize=(15,6))\n",
    "\n",
    "products = sampled_item_2['product'].unique()\n",
    "\n",
    "#Plot 1\n",
    "axs[0].bar(products, values_to_plot)\n",
    "axs[0].set_title('Export by products in the last 5 years')\n",
    "axs[0].set_xlabel('Products')\n",
    "axs[0].set_ylabel('Tonnes (thousands)')\n",
    "\n",
    "for i in range(len(products)):\n",
    "    axs[0].text(x = products[i],y = values_to_plot[i], s = int(values_to_plot[i]) )\n",
    "\n",
    "products = sampled_item_2['product'].unique()\n",
    "\n",
    "#Plot 2\n",
    "axs[1].bar(products, products_by_usd, color = 'green')\n",
    "axs[1].set_title('Value exported in millions')\n",
    "axs[1].set_xlabel('Products')\n",
    "axs[1].set_ylabel('Dollars (millions)')\n",
    "\n",
    "for i in range(len(products)):\n",
    "    axs[1].text(x = products[i],y = products_by_usd[i], s = int(products_by_usd[i]) )\n",
    "    \n",
    "    \n",
    "fig.suptitle('Most important products', fontsize=16)\n",
    "\n",
    "plt.show()"
   ]
  },
  {
   "cell_type": "markdown",
   "metadata": {},
   "source": [
    "# 3 - Routes of corn exportation "
   ]
  },
  {
   "cell_type": "markdown",
   "metadata": {},
   "source": [
    "The most importante route is Sea representing 95.6% of total corn exports in last 5 years.\n",
    "\n",
    "Sea exports represent the largest export channel for all types of products"
   ]
  },
  {
   "cell_type": "code",
   "execution_count": null,
   "metadata": {},
   "outputs": [],
   "source": [
    "#Get last 5 years, exports and corn\n",
    "item_3 = ((date_grouped.index.year >= 2014) & (date_grouped['type'] == 'Export') & (date_grouped['product'] == 'corn'))\n",
    "item_3_1 = ((date_grouped.index.year >= 2014) & (date_grouped['type'] == 'Export'))"
   ]
  },
  {
   "cell_type": "code",
   "execution_count": null,
   "metadata": {},
   "outputs": [],
   "source": [
    "#Extract data \n",
    "sampled_item_3 = date_grouped.apply(lambda x: x[item_3])\n",
    "sampled_item_3_1 = date_grouped.apply(lambda x: x[item_3_1])"
   ]
  },
  {
   "cell_type": "code",
   "execution_count": null,
   "metadata": {},
   "outputs": [],
   "source": [
    "routes_corn_export = sampled_item_3.groupby('route').apply(lambda x: x.tons.sum()/1000)"
   ]
  },
  {
   "cell_type": "code",
   "execution_count": null,
   "metadata": {},
   "outputs": [],
   "source": [
    "#Sea representation export \n",
    "routes_corn_export['Sea']/routes_corn_export.sum()*100"
   ]
  },
  {
   "cell_type": "code",
   "execution_count": null,
   "metadata": {},
   "outputs": [],
   "source": [
    "#Function do calcule the tonnes exported by product\n",
    "def route_importance(df_product):\n",
    "    return df_product.groupby('route').apply(lambda x: x.tons.sum()/1000)\n",
    "\n",
    "route_export = sampled_item_3_1.groupby('product').apply(route_importance)"
   ]
  },
  {
   "cell_type": "code",
   "execution_count": null,
   "metadata": {},
   "outputs": [],
   "source": [
    "#Show the values os each route of export by product\n",
    "pd.DataFrame(route_export, columns=['tonnes'])"
   ]
  },
  {
   "cell_type": "code",
   "execution_count": null,
   "metadata": {},
   "outputs": [],
   "source": [
    "routes = sampled_item_3['route'].unique()\n",
    "routes = np.sort(routes)\n",
    "\n",
    "fig, ax = plt.subplots()\n",
    "plt.bar(routes, routes_corn_export)\n",
    "fig.autofmt_xdate()\n",
    "plt.title('Corn Tonnes exported in last 5 years')\n",
    "plt.xlabel('Routes')\n",
    "plt.ylabel('Tonnes (thousands)')\n",
    "\n",
    "for i in range(len(routes)):\n",
    "    plt.text(x = routes[i], y = routes_corn_export[i], s = int(routes_corn_export[i]) )"
   ]
  },
  {
   "cell_type": "markdown",
   "metadata": {},
   "source": [
    "# 4 - Most important partens with corn and sugar"
   ]
  },
  {
   "cell_type": "markdown",
   "metadata": {},
   "source": [
    "173 countries are realized importation or exportation with Brazil considering sugar or corn after 2016 (3 yeas ago), was analised the top 10 countries using total of tonnes exported and total usd (dollars) movimented.\n",
    "\n",
    "It was possible to identify that Iran was the principal destiny of exportation of theses products (23.3 millions of tonnes), and bigest font of usd (4.3 billions).\n",
    "The second most import country was Egypt considering total of tonnes, but in relation with dollars payed to Brazil is the 4°.\n",
    "\n",
    "Considering the importation the values are much smaller, the bigest value in tonnes is with Paraguay (4.3 millions of tonnes), and 602 millions of dollars."
   ]
  },
  {
   "cell_type": "code",
   "execution_count": null,
   "metadata": {},
   "outputs": [],
   "source": [
    "#relationship_between_countries\n",
    "rbc = pd.DataFrame()"
   ]
  },
  {
   "cell_type": "code",
   "execution_count": null,
   "metadata": {},
   "outputs": [],
   "source": [
    "item_4 = (((date_grouped['product'] == 'corn') | (date_grouped['product'] == 'sugar')) & (date_grouped.index.year >= 2016))\n",
    "sampled_item_4 = date_grouped.apply(lambda x: x[item_4])"
   ]
  },
  {
   "cell_type": "code",
   "execution_count": null,
   "metadata": {},
   "outputs": [],
   "source": [
    "#Function to calcule the total of tonnes imported and exported per each country\n",
    "def total_negotiation_export(df_country):\n",
    "    export_total = df_country[df_country['type'] == 'Export']['tons'].sum()/MILLION\n",
    "    return export_total\n",
    "\n",
    "def total_negotiation_import(df_country):\n",
    "    import_total = df_country[df_country['type'] == 'Import']['tons'].sum()/MILLION\n",
    "    return import_total"
   ]
  },
  {
   "cell_type": "code",
   "execution_count": null,
   "metadata": {},
   "outputs": [],
   "source": [
    "#Function to calcule the total of USD (dollars) imported and exported per each country\n",
    "def total_usd_export(df_country):\n",
    "    export_total_usd = df_country[df_country['type'] == 'Export']['usd'].sum()/1000000000\n",
    "    return export_total_usd\n",
    "\n",
    "def total_usd_import(df_country):\n",
    "    import_total_usd = df_country[df_country['type'] == 'Import']['usd'].sum()/MILLION\n",
    "    return import_total_usd"
   ]
  },
  {
   "cell_type": "code",
   "execution_count": null,
   "metadata": {},
   "outputs": [],
   "source": [
    "#Apply the functions to sum\n",
    "rbc['export_total'] = sampled_item_4.groupby('country').apply(total_negotiation_export)\n",
    "rbc['import_total'] = sampled_item_4.groupby('country').apply(total_negotiation_import)\n",
    "\n",
    "rbc['export_total_usd'] = sampled_item_4.groupby('country').apply(total_usd_export)\n",
    "rbc['import_total_usd'] = sampled_item_4.groupby('country').apply(total_usd_import)"
   ]
  },
  {
   "cell_type": "code",
   "execution_count": null,
   "metadata": {},
   "outputs": [],
   "source": [
    "#Get the top 5 countries in import and export by tonnes and usd\n",
    "top_tons_export = rbc.sort_values('export_total',ascending=False).head(10)\n",
    "top_tons_import = rbc.sort_values('import_total',ascending=False).head(10)\n",
    "\n",
    "top_usd_export = rbc.sort_values('export_total_usd',ascending=False).head(10)\n",
    "top_usd_import = rbc.sort_values('import_total_usd',ascending=False).head(10)"
   ]
  },
  {
   "cell_type": "code",
   "execution_count": null,
   "metadata": {},
   "outputs": [],
   "source": [
    "fig, axs = plt.subplots(2, 1, constrained_layout=True,figsize=(15,10))\n",
    "\n",
    "#Plot 1\n",
    "axs[0].bar(top_tons_export.index, top_tons_export['export_total'])\n",
    "axs[0].set_title('Top 10 countries with more exports (tonnes)')\n",
    "axs[0].set_xlabel('Countries')\n",
    "axs[0].set_ylabel('Tonnes (millions)')\n",
    "\n",
    "for i in range(len(top_tons_export)):\n",
    "    axs[0].text(x = top_tons_export.index[i], y = top_tons_export['export_total'][i], s = \"{:.1f}\".format((top_tons_export['export_total'][i])))\n",
    "    \n",
    "#Plot 2\n",
    "axs[1].bar(top_usd_export.index, top_usd_export['export_total_usd'], color = 'green')\n",
    "axs[1].set_title('Top 10 countries with more exports (dollars)')\n",
    "axs[1].set_xlabel('Countries')\n",
    "axs[1].set_ylabel('Dollars (billions)')\n",
    "\n",
    "for i in range(len(top_tons_export)):\n",
    "    axs[1].text(x = top_usd_export.index[i], y = top_usd_export['export_total_usd'][i], s = \"{:.2f}\".format((top_usd_export['export_total_usd'][i])))\n",
    "    \n",
    "fig.suptitle('Most important countries', fontsize=16)\n",
    "\n",
    "plt.show()"
   ]
  },
  {
   "cell_type": "code",
   "execution_count": null,
   "metadata": {},
   "outputs": [],
   "source": [
    "#Total imported (considering dollars)\n",
    "top_usd_import"
   ]
  },
  {
   "cell_type": "code",
   "execution_count": null,
   "metadata": {},
   "outputs": [],
   "source": [
    "#Total imported (considering tonnes)\n",
    "top_tons_import"
   ]
  },
  {
   "cell_type": "markdown",
   "metadata": {},
   "source": [
    "# 5 - most importante UF consediring exportation by product"
   ]
  },
  {
   "cell_type": "markdown",
   "metadata": {},
   "source": [
    "In almost all of the top 5, with the first in two categories.\n",
    "The state of PR is present in all the top 5, but its total production considering all UFs is still below MT.\n",
    "\n",
    "Variance in state of ESTADO, is the bigest showing that of all the products, this export is very concentrated on this platform"
   ]
  },
  {
   "cell_type": "code",
   "execution_count": null,
   "metadata": {},
   "outputs": [],
   "source": [
    "item_5 = ((date_grouped['type'] == 'Export'))"
   ]
  },
  {
   "cell_type": "code",
   "execution_count": null,
   "metadata": {},
   "outputs": [],
   "source": [
    "sampled_item_5 = date_grouped.apply(lambda x: x[item_5])"
   ]
  },
  {
   "cell_type": "code",
   "execution_count": null,
   "metadata": {},
   "outputs": [],
   "source": [
    "#Get the first bigest values in tonnes per each state\n",
    "def sum_by_UF(df_product):\n",
    "    return df_product.groupby('state').apply(lambda x: x['tons'].sum()/1000000).sort_values(ascending=False).nlargest(5)"
   ]
  },
  {
   "cell_type": "code",
   "execution_count": null,
   "metadata": {},
   "outputs": [],
   "source": [
    "state_values = sampled_item_5.groupby('product').apply(lambda x: sum_by_UF(x))\n",
    "index = state_values.index"
   ]
  },
  {
   "cell_type": "code",
   "execution_count": null,
   "metadata": {},
   "outputs": [],
   "source": [
    "#Most Importante States\n",
    "mis = pd.DataFrame(state_values.values, columns=['tons'], index=index)"
   ]
  },
  {
   "cell_type": "code",
   "execution_count": null,
   "metadata": {},
   "outputs": [],
   "source": [
    "def states_metrics(actual_product):\n",
    "    actual_product_values = mis[mis.index.get_level_values(0) == str(actual_product)]['tons'].values\n",
    "    actual_product_states = mis[mis.index.get_level_values(0) == str(actual_product)].index.get_level_values(1)\n",
    "    return actual_product_states, actual_product_values"
   ]
  },
  {
   "cell_type": "code",
   "execution_count": null,
   "metadata": {},
   "outputs": [],
   "source": [
    "plot_state=[]\n",
    "for i in range(len(mis.index.get_level_values(0).unique())):\n",
    "    plot_state.append(states_metrics(mis.index.get_level_values(0).unique()[i]))"
   ]
  },
  {
   "cell_type": "code",
   "execution_count": null,
   "metadata": {},
   "outputs": [],
   "source": [
    "fig, axs = plt.subplots(2, 3, constrained_layout=True, figsize=(15,10))\n",
    "count = 0\n",
    "for i in range(2):\n",
    "    for j in range(3):\n",
    "        axs[i,j].bar(plot_state[count][0], plot_state[count][1])\n",
    "        axs[i,j].set_title(mis.index.get_level_values(0).unique()[count])\n",
    "        axs[i,j].set_xlabel('States')\n",
    "        axs[i,j].set_ylabel('Tonnes (millions)')\n",
    "\n",
    "        for k in range(len(plot_state[count][0])):\n",
    "            axs[i,j].text(x = plot_state[count][0][k], y = plot_state[count][1][k], s = \"{:.1f}\".format((plot_state[count][1][k])))\n",
    "        count+=1\n",
    "        \n",
    "fig.suptitle('Most important states by product export', fontsize=16)"
   ]
  },
  {
   "cell_type": "markdown",
   "metadata": {},
   "source": [
    "#  6 - Predict"
   ]
  },
  {
   "cell_type": "markdown",
   "metadata": {},
   "source": [
    "Por enquanto só com soja"
   ]
  },
  {
   "cell_type": "code",
   "execution_count": 276,
   "metadata": {},
   "outputs": [],
   "source": [
    "historical_serie = pd.read_excel('covariates.xlsx')"
   ]
  },
  {
   "cell_type": "code",
   "execution_count": 277,
   "metadata": {},
   "outputs": [
    {
     "data": {
      "text/html": [
       "<div>\n",
       "<style scoped>\n",
       "    .dataframe tbody tr th:only-of-type {\n",
       "        vertical-align: middle;\n",
       "    }\n",
       "\n",
       "    .dataframe tbody tr th {\n",
       "        vertical-align: top;\n",
       "    }\n",
       "\n",
       "    .dataframe thead th {\n",
       "        text-align: right;\n",
       "    }\n",
       "</style>\n",
       "<table border=\"1\" class=\"dataframe\">\n",
       "  <thead>\n",
       "    <tr style=\"text-align: right;\">\n",
       "      <th></th>\n",
       "      <th>year</th>\n",
       "      <th>price_soybeans</th>\n",
       "      <th>price_corn</th>\n",
       "      <th>price_soybean_meal</th>\n",
       "      <th>gdp_china</th>\n",
       "      <th>gdp_iran</th>\n",
       "      <th>gpd_netherlands</th>\n",
       "      <th>gdp_spain</th>\n",
       "      <th>gdp_thailand</th>\n",
       "      <th>gdp_world</th>\n",
       "      <th>gdp_egypt</th>\n",
       "      <th>gdp_japan</th>\n",
       "      <th>gdp_vietnam</th>\n",
       "    </tr>\n",
       "  </thead>\n",
       "  <tbody>\n",
       "    <tr>\n",
       "      <td>0</td>\n",
       "      <td>1979</td>\n",
       "      <td>NaN</td>\n",
       "      <td>NaN</td>\n",
       "      <td>NaN</td>\n",
       "      <td>100.000000</td>\n",
       "      <td>100.000000</td>\n",
       "      <td>NaN</td>\n",
       "      <td>100.000000</td>\n",
       "      <td>100.000000</td>\n",
       "      <td>100.000000</td>\n",
       "      <td>100.000000</td>\n",
       "      <td>100.000000</td>\n",
       "      <td>100.000000</td>\n",
       "    </tr>\n",
       "    <tr>\n",
       "      <td>1</td>\n",
       "      <td>1980</td>\n",
       "      <td>100.000000</td>\n",
       "      <td>100.000000</td>\n",
       "      <td>100.000000</td>\n",
       "      <td>107.900000</td>\n",
       "      <td>81.200000</td>\n",
       "      <td>100.000000</td>\n",
       "      <td>101.200000</td>\n",
       "      <td>104.600000</td>\n",
       "      <td>102.100000</td>\n",
       "      <td>103.400000</td>\n",
       "      <td>103.200000</td>\n",
       "      <td>96.500000</td>\n",
       "    </tr>\n",
       "    <tr>\n",
       "      <td>2</td>\n",
       "      <td>1981</td>\n",
       "      <td>98.525508</td>\n",
       "      <td>103.888308</td>\n",
       "      <td>99.805440</td>\n",
       "      <td>113.402900</td>\n",
       "      <td>74.216800</td>\n",
       "      <td>99.500000</td>\n",
       "      <td>100.795200</td>\n",
       "      <td>110.771400</td>\n",
       "      <td>104.039900</td>\n",
       "      <td>105.674800</td>\n",
       "      <td>107.534400</td>\n",
       "      <td>102.097000</td>\n",
       "    </tr>\n",
       "    <tr>\n",
       "      <td>3</td>\n",
       "      <td>1982</td>\n",
       "      <td>83.406192</td>\n",
       "      <td>85.986430</td>\n",
       "      <td>86.596956</td>\n",
       "      <td>123.609161</td>\n",
       "      <td>83.939201</td>\n",
       "      <td>98.206500</td>\n",
       "      <td>102.004742</td>\n",
       "      <td>116.753056</td>\n",
       "      <td>104.664139</td>\n",
       "      <td>113.389060</td>\n",
       "      <td>111.083035</td>\n",
       "      <td>110.468954</td>\n",
       "    </tr>\n",
       "    <tr>\n",
       "      <td>4</td>\n",
       "      <td>1983</td>\n",
       "      <td>97.851743</td>\n",
       "      <td>108.168059</td>\n",
       "      <td>98.663318</td>\n",
       "      <td>136.958950</td>\n",
       "      <td>95.522811</td>\n",
       "      <td>99.974217</td>\n",
       "      <td>103.738823</td>\n",
       "      <td>123.291227</td>\n",
       "      <td>107.594735</td>\n",
       "      <td>123.480687</td>\n",
       "      <td>114.970941</td>\n",
       "      <td>118.312250</td>\n",
       "    </tr>\n",
       "  </tbody>\n",
       "</table>\n",
       "</div>"
      ],
      "text/plain": [
       "   year  price_soybeans  price_corn  price_soybean_meal   gdp_china  \\\n",
       "0  1979             NaN         NaN                 NaN  100.000000   \n",
       "1  1980      100.000000  100.000000          100.000000  107.900000   \n",
       "2  1981       98.525508  103.888308           99.805440  113.402900   \n",
       "3  1982       83.406192   85.986430           86.596956  123.609161   \n",
       "4  1983       97.851743  108.168059           98.663318  136.958950   \n",
       "\n",
       "     gdp_iran  gpd_netherlands   gdp_spain  gdp_thailand   gdp_world  \\\n",
       "0  100.000000              NaN  100.000000    100.000000  100.000000   \n",
       "1   81.200000       100.000000  101.200000    104.600000  102.100000   \n",
       "2   74.216800        99.500000  100.795200    110.771400  104.039900   \n",
       "3   83.939201        98.206500  102.004742    116.753056  104.664139   \n",
       "4   95.522811        99.974217  103.738823    123.291227  107.594735   \n",
       "\n",
       "    gdp_egypt   gdp_japan  gdp_vietnam  \n",
       "0  100.000000  100.000000   100.000000  \n",
       "1  103.400000  103.200000    96.500000  \n",
       "2  105.674800  107.534400   102.097000  \n",
       "3  113.389060  111.083035   110.468954  \n",
       "4  123.480687  114.970941   118.312250  "
      ]
     },
     "execution_count": 277,
     "metadata": {},
     "output_type": "execute_result"
    }
   ],
   "source": [
    "historical_serie.head(5)"
   ]
  },
  {
   "cell_type": "code",
   "execution_count": 278,
   "metadata": {},
   "outputs": [],
   "source": [
    "#Anual exportation\n",
    "item_6 = ((date_grouped['type'] == 'Export') & (date_grouped['product'] == 'soybeans'))\n",
    "exportations = date_grouped.apply(lambda x: x[item_6])\n",
    "total_exportation = exportations.groupby(exportations.index.year).apply(lambda x: x['tons'].sum()/MILLION)"
   ]
  },
  {
   "cell_type": "code",
   "execution_count": 279,
   "metadata": {},
   "outputs": [],
   "source": [
    "#Model for forecast\n",
    "model = pd.DataFrame(total_exportation)\n",
    "model.reset_index(inplace=True)\n",
    "model.columns = ['year','total_exported']"
   ]
  },
  {
   "cell_type": "code",
   "execution_count": 280,
   "metadata": {},
   "outputs": [],
   "source": [
    "def sjoin(x): return ';'.join(x[x.notnull()].astype(str))"
   ]
  },
  {
   "cell_type": "code",
   "execution_count": 281,
   "metadata": {},
   "outputs": [],
   "source": [
    "model.set_index('year',inplace=True)"
   ]
  },
  {
   "cell_type": "code",
   "execution_count": 282,
   "metadata": {
    "scrolled": true
   },
   "outputs": [
    {
     "name": "stdout",
     "output_type": "stream",
     "text": [
      "Akaike Information Criterion of model: 67.11\n"
     ]
    },
    {
     "data": {
      "image/png": "[encoded data removed]",
      "text/plain": [
       "<Figure size 576x288 with 1 Axes>"
      ]
     },
     "metadata": {
      "needs_background": "light"
     },
     "output_type": "display_data"
    }
   ],
   "source": [
    "#Use ARIMA to create the model's historical series\n",
    "\n",
    "prev_range = np.arange(2020,2031,1) #Range to predict\n",
    "modelo = auto_arima(model, start_p =1, start_q=1, max_p=6, max_q=6, m=12, start_P=0, seasonal=True, d=1, D=1, error_action='ignore', suppress_warnigs=True, stepwise=True, n_jobs=-1)\n",
    "predict_future = see_the_future(model, prev_range)"
   ]
  },
  {
   "cell_type": "code",
   "execution_count": 283,
   "metadata": {},
   "outputs": [],
   "source": [
    "def see_the_future(model,prev_range):\n",
    "    modelo.fit(model) #Fit the model\n",
    "    prevision = modelo.predict(n_periods=prev_range.size) #Forecasting data\n",
    "    prevision = pd.DataFrame(prevision, index=prev_range, columns=['total_exported']) #Creating a data frame with forecast data\n",
    "\n",
    "    fig, ax = plt.subplots(figsize=(8, 4))\n",
    "    pd.concat([model,prevision],axis=1).plot(ax=ax)\n",
    "    ax.legend([\"original\", \"predict\"]);\n",
    "    plt.xlabel(\"years\")\n",
    "    plt.ylabel(\"rtfpna\")\n",
    "    plt.title(\"Preditc values of tonnes exported of soybeans\")\n",
    "    print(\"Akaike Information Criterion of model: \"+ str(\"{:.2f}\".format(modelo.aic())))\n",
    "    return pd.concat([model,prevision],axis=1).groupby(level=0, axis=1).apply(lambda x: x.apply(sjoin, axis=1))"
   ]
  },
  {
   "cell_type": "code",
   "execution_count": 284,
   "metadata": {},
   "outputs": [
    {
     "data": {
      "text/html": [
       "<div>\n",
       "<style scoped>\n",
       "    .dataframe tbody tr th:only-of-type {\n",
       "        vertical-align: middle;\n",
       "    }\n",
       "\n",
       "    .dataframe tbody tr th {\n",
       "        vertical-align: top;\n",
       "    }\n",
       "\n",
       "    .dataframe thead th {\n",
       "        text-align: right;\n",
       "    }\n",
       "</style>\n",
       "<table border=\"1\" class=\"dataframe\">\n",
       "  <thead>\n",
       "    <tr style=\"text-align: right;\">\n",
       "      <th></th>\n",
       "      <th>year</th>\n",
       "      <th>price_soybeans</th>\n",
       "      <th>price_corn</th>\n",
       "      <th>price_soybean_meal</th>\n",
       "      <th>gdp_china</th>\n",
       "      <th>gdp_iran</th>\n",
       "      <th>gpd_netherlands</th>\n",
       "      <th>gdp_spain</th>\n",
       "      <th>gdp_thailand</th>\n",
       "      <th>gdp_world</th>\n",
       "      <th>gdp_egypt</th>\n",
       "      <th>gdp_japan</th>\n",
       "      <th>gdp_vietnam</th>\n",
       "      <th>total_exported</th>\n",
       "    </tr>\n",
       "  </thead>\n",
       "  <tbody>\n",
       "    <tr>\n",
       "      <td>0</td>\n",
       "      <td>1979.0</td>\n",
       "      <td>NaN</td>\n",
       "      <td>NaN</td>\n",
       "      <td>NaN</td>\n",
       "      <td>100.000000</td>\n",
       "      <td>100.000000</td>\n",
       "      <td>NaN</td>\n",
       "      <td>100.000000</td>\n",
       "      <td>100.000000</td>\n",
       "      <td>100.000000</td>\n",
       "      <td>100.000000</td>\n",
       "      <td>100.000000</td>\n",
       "      <td>100.000000</td>\n",
       "      <td>NaN</td>\n",
       "    </tr>\n",
       "    <tr>\n",
       "      <td>1</td>\n",
       "      <td>1980.0</td>\n",
       "      <td>100.000000</td>\n",
       "      <td>100.000000</td>\n",
       "      <td>100.000000</td>\n",
       "      <td>107.900000</td>\n",
       "      <td>81.200000</td>\n",
       "      <td>100.000000</td>\n",
       "      <td>101.200000</td>\n",
       "      <td>104.600000</td>\n",
       "      <td>102.100000</td>\n",
       "      <td>103.400000</td>\n",
       "      <td>103.200000</td>\n",
       "      <td>96.500000</td>\n",
       "      <td>NaN</td>\n",
       "    </tr>\n",
       "    <tr>\n",
       "      <td>2</td>\n",
       "      <td>1981.0</td>\n",
       "      <td>98.525508</td>\n",
       "      <td>103.888308</td>\n",
       "      <td>99.805440</td>\n",
       "      <td>113.402900</td>\n",
       "      <td>74.216800</td>\n",
       "      <td>99.500000</td>\n",
       "      <td>100.795200</td>\n",
       "      <td>110.771400</td>\n",
       "      <td>104.039900</td>\n",
       "      <td>105.674800</td>\n",
       "      <td>107.534400</td>\n",
       "      <td>102.097000</td>\n",
       "      <td>NaN</td>\n",
       "    </tr>\n",
       "    <tr>\n",
       "      <td>3</td>\n",
       "      <td>1982.0</td>\n",
       "      <td>83.406192</td>\n",
       "      <td>85.986430</td>\n",
       "      <td>86.596956</td>\n",
       "      <td>123.609161</td>\n",
       "      <td>83.939201</td>\n",
       "      <td>98.206500</td>\n",
       "      <td>102.004742</td>\n",
       "      <td>116.753056</td>\n",
       "      <td>104.664139</td>\n",
       "      <td>113.389060</td>\n",
       "      <td>111.083035</td>\n",
       "      <td>110.468954</td>\n",
       "      <td>NaN</td>\n",
       "    </tr>\n",
       "    <tr>\n",
       "      <td>4</td>\n",
       "      <td>1983.0</td>\n",
       "      <td>97.851743</td>\n",
       "      <td>108.168059</td>\n",
       "      <td>98.663318</td>\n",
       "      <td>136.958950</td>\n",
       "      <td>95.522811</td>\n",
       "      <td>99.974217</td>\n",
       "      <td>103.738823</td>\n",
       "      <td>123.291227</td>\n",
       "      <td>107.594735</td>\n",
       "      <td>123.480687</td>\n",
       "      <td>114.970941</td>\n",
       "      <td>118.312250</td>\n",
       "      <td>NaN</td>\n",
       "    </tr>\n",
       "    <tr>\n",
       "      <td>...</td>\n",
       "      <td>...</td>\n",
       "      <td>...</td>\n",
       "      <td>...</td>\n",
       "      <td>...</td>\n",
       "      <td>...</td>\n",
       "      <td>...</td>\n",
       "      <td>...</td>\n",
       "      <td>...</td>\n",
       "      <td>...</td>\n",
       "      <td>...</td>\n",
       "      <td>...</td>\n",
       "      <td>...</td>\n",
       "      <td>...</td>\n",
       "      <td>...</td>\n",
       "    </tr>\n",
       "    <tr>\n",
       "      <td>2026</td>\n",
       "      <td>2030.0</td>\n",
       "      <td>167.029608</td>\n",
       "      <td>167.140979</td>\n",
       "      <td>183.690870</td>\n",
       "      <td>6102.244946</td>\n",
       "      <td>239.096864</td>\n",
       "      <td>254.300715</td>\n",
       "      <td>275.393270</td>\n",
       "      <td>978.073487</td>\n",
       "      <td>547.625878</td>\n",
       "      <td>848.364039</td>\n",
       "      <td>221.476562</td>\n",
       "      <td>2013.057175</td>\n",
       "      <td>119.88430841785602</td>\n",
       "    </tr>\n",
       "    <tr>\n",
       "      <td>2027</td>\n",
       "      <td>2030.0</td>\n",
       "      <td>167.029608</td>\n",
       "      <td>167.140979</td>\n",
       "      <td>183.690870</td>\n",
       "      <td>6102.244946</td>\n",
       "      <td>239.096864</td>\n",
       "      <td>254.300715</td>\n",
       "      <td>275.393270</td>\n",
       "      <td>978.073487</td>\n",
       "      <td>547.625878</td>\n",
       "      <td>848.364039</td>\n",
       "      <td>221.476562</td>\n",
       "      <td>2013.057175</td>\n",
       "      <td>131.90240511776705</td>\n",
       "    </tr>\n",
       "    <tr>\n",
       "      <td>2028</td>\n",
       "      <td>2030.0</td>\n",
       "      <td>167.029608</td>\n",
       "      <td>167.140979</td>\n",
       "      <td>183.690870</td>\n",
       "      <td>6102.244946</td>\n",
       "      <td>239.096864</td>\n",
       "      <td>254.300715</td>\n",
       "      <td>275.393270</td>\n",
       "      <td>978.073487</td>\n",
       "      <td>547.625878</td>\n",
       "      <td>848.364039</td>\n",
       "      <td>221.476562</td>\n",
       "      <td>2013.057175</td>\n",
       "      <td>132.57452222067806</td>\n",
       "    </tr>\n",
       "    <tr>\n",
       "      <td>2029</td>\n",
       "      <td>2030.0</td>\n",
       "      <td>167.029608</td>\n",
       "      <td>167.140979</td>\n",
       "      <td>183.690870</td>\n",
       "      <td>6102.244946</td>\n",
       "      <td>239.096864</td>\n",
       "      <td>254.300715</td>\n",
       "      <td>275.393270</td>\n",
       "      <td>978.073487</td>\n",
       "      <td>547.625878</td>\n",
       "      <td>848.364039</td>\n",
       "      <td>221.476562</td>\n",
       "      <td>2013.057175</td>\n",
       "      <td>152.4091022035891</td>\n",
       "    </tr>\n",
       "    <tr>\n",
       "      <td>2030</td>\n",
       "      <td>2030.0</td>\n",
       "      <td>167.029608</td>\n",
       "      <td>167.140979</td>\n",
       "      <td>183.690870</td>\n",
       "      <td>6102.244946</td>\n",
       "      <td>239.096864</td>\n",
       "      <td>254.300715</td>\n",
       "      <td>275.393270</td>\n",
       "      <td>978.073487</td>\n",
       "      <td>547.625878</td>\n",
       "      <td>848.364039</td>\n",
       "      <td>221.476562</td>\n",
       "      <td>2013.057175</td>\n",
       "      <td>169.9517386115001</td>\n",
       "    </tr>\n",
       "  </tbody>\n",
       "</table>\n",
       "<p>86 rows × 14 columns</p>\n",
       "</div>"
      ],
      "text/plain": [
       "        year  price_soybeans  price_corn  price_soybean_meal    gdp_china  \\\n",
       "0     1979.0             NaN         NaN                 NaN   100.000000   \n",
       "1     1980.0      100.000000  100.000000          100.000000   107.900000   \n",
       "2     1981.0       98.525508  103.888308           99.805440   113.402900   \n",
       "3     1982.0       83.406192   85.986430           86.596956   123.609161   \n",
       "4     1983.0       97.851743  108.168059           98.663318   136.958950   \n",
       "...      ...             ...         ...                 ...          ...   \n",
       "2026  2030.0      167.029608  167.140979          183.690870  6102.244946   \n",
       "2027  2030.0      167.029608  167.140979          183.690870  6102.244946   \n",
       "2028  2030.0      167.029608  167.140979          183.690870  6102.244946   \n",
       "2029  2030.0      167.029608  167.140979          183.690870  6102.244946   \n",
       "2030  2030.0      167.029608  167.140979          183.690870  6102.244946   \n",
       "\n",
       "        gdp_iran  gpd_netherlands   gdp_spain  gdp_thailand   gdp_world  \\\n",
       "0     100.000000              NaN  100.000000    100.000000  100.000000   \n",
       "1      81.200000       100.000000  101.200000    104.600000  102.100000   \n",
       "2      74.216800        99.500000  100.795200    110.771400  104.039900   \n",
       "3      83.939201        98.206500  102.004742    116.753056  104.664139   \n",
       "4      95.522811        99.974217  103.738823    123.291227  107.594735   \n",
       "...          ...              ...         ...           ...         ...   \n",
       "2026  239.096864       254.300715  275.393270    978.073487  547.625878   \n",
       "2027  239.096864       254.300715  275.393270    978.073487  547.625878   \n",
       "2028  239.096864       254.300715  275.393270    978.073487  547.625878   \n",
       "2029  239.096864       254.300715  275.393270    978.073487  547.625878   \n",
       "2030  239.096864       254.300715  275.393270    978.073487  547.625878   \n",
       "\n",
       "       gdp_egypt   gdp_japan  gdp_vietnam      total_exported  \n",
       "0     100.000000  100.000000   100.000000                 NaN  \n",
       "1     103.400000  103.200000    96.500000                 NaN  \n",
       "2     105.674800  107.534400   102.097000                 NaN  \n",
       "3     113.389060  111.083035   110.468954                 NaN  \n",
       "4     123.480687  114.970941   118.312250                 NaN  \n",
       "...          ...         ...          ...                 ...  \n",
       "2026  848.364039  221.476562  2013.057175  119.88430841785602  \n",
       "2027  848.364039  221.476562  2013.057175  131.90240511776705  \n",
       "2028  848.364039  221.476562  2013.057175  132.57452222067806  \n",
       "2029  848.364039  221.476562  2013.057175   152.4091022035891  \n",
       "2030  848.364039  221.476562  2013.057175   169.9517386115001  \n",
       "\n",
       "[86 rows x 14 columns]"
      ]
     },
     "execution_count": 284,
     "metadata": {},
     "output_type": "execute_result"
    }
   ],
   "source": [
    "pd.concat([historical_serie, predict_future],axis=1).fillna(method='ffill')"
   ]
  },
  {
   "cell_type": "code",
   "execution_count": 285,
   "metadata": {},
   "outputs": [],
   "source": [
    "predict_future['total_exported'] = pd.to_numeric(predict_future['total_exported'])"
   ]
  },
  {
   "cell_type": "code",
   "execution_count": 286,
   "metadata": {},
   "outputs": [],
   "source": [
    "prev_pass = np.arange(1979,1997,1) #Range to predict\n",
    "#see_the_future(predict_future.sort_values('total_exported',ascending=False), prev_pass)"
   ]
  },
  {
   "cell_type": "markdown",
   "metadata": {},
   "source": [
    "# Linear regression to target values (missing values)"
   ]
  },
  {
   "cell_type": "code",
   "execution_count": 287,
   "metadata": {},
   "outputs": [],
   "source": [
    "from sklearn.linear_model import LinearRegression\n",
    "from sklearn import preprocessing"
   ]
  },
  {
   "cell_type": "code",
   "execution_count": 288,
   "metadata": {},
   "outputs": [],
   "source": [
    "X = predict_future.sort_values('total_exported',ascending=False).index.values.reshape(-1,1)\n",
    "y = predict_future.sort_values('total_exported',ascending=False).values"
   ]
  },
  {
   "cell_type": "code",
   "execution_count": 289,
   "metadata": {},
   "outputs": [],
   "source": [
    "min_max_scaler = preprocessing.MinMaxScaler()\n",
    "x_scaled = min_max_scaler.fit_transform(X)\n",
    "y_scaled = min_max_scaler.fit_transform(y)"
   ]
  },
  {
   "cell_type": "code",
   "execution_count": 290,
   "metadata": {},
   "outputs": [],
   "source": [
    "reg = LinearRegression(normalize=True).fit(x_scaled, y_scaled)"
   ]
  },
  {
   "cell_type": "code",
   "execution_count": 291,
   "metadata": {},
   "outputs": [],
   "source": [
    "x_scaled_prev = min_max_scaler.fit_transform(prev_pass.reshape(-1,1))\n",
    "tager_pass_values = reg.predict(x_scaled_prev)\n",
    "tager_pass_values = min_max_scaler.inverse_transform(tager_pass_values)"
   ]
  },
  {
   "cell_type": "code",
   "execution_count": 302,
   "metadata": {},
   "outputs": [],
   "source": [
    "historical_serie['tagert'] = pd.concat([predict_future,pd.DataFrame(data=tager_pass_values, index=prev_pass, columns=['total_exported'])]).sort_index().values"
   ]
  },
  {
   "cell_type": "markdown",
   "metadata": {},
   "source": [
    "# Regression to target"
   ]
  },
  {
   "cell_type": "code",
   "execution_count": 317,
   "metadata": {},
   "outputs": [],
   "source": [
    "import xgboost as xgb\n",
    "from sklearn.model_selection import train_test_split\n",
    "from sklearn.metrics import mean_squared_error"
   ]
  },
  {
   "cell_type": "code",
   "execution_count": 309,
   "metadata": {},
   "outputs": [],
   "source": [
    "X = historical_serie.drop(['tagert'],axis=1)\n",
    "y = historical_serie['tagert']"
   ]
  },
  {
   "cell_type": "code",
   "execution_count": 319,
   "metadata": {},
   "outputs": [],
   "source": [
    "X_train, X_test, y_train, y_test = train_test_split(X, y, test_size=0.2, random_state=1)"
   ]
  },
  {
   "cell_type": "code",
   "execution_count": 318,
   "metadata": {},
   "outputs": [
    {
     "name": "stderr",
     "output_type": "stream",
     "text": [
      "C:\\Users\\stiva\\AppData\\Local\\Continuum\\anaconda3\\lib\\site-packages\\xgboost\\core.py:587: FutureWarning: Series.base is deprecated and will be removed in a future version\n",
      "  if getattr(data, 'base', None) is not None and \\\n",
      "C:\\Users\\stiva\\AppData\\Local\\Continuum\\anaconda3\\lib\\site-packages\\xgboost\\core.py:588: FutureWarning: Series.base is deprecated and will be removed in a future version\n",
      "  data.base is not None and isinstance(data, np.ndarray) \\\n"
     ]
    }
   ],
   "source": [
    "data_dmatrix = xgb.DMatrix(data=X,label=y)"
   ]
  },
  {
   "cell_type": "code",
   "execution_count": 320,
   "metadata": {},
   "outputs": [],
   "source": [
    "xg_reg = xgb.XGBRegressor(objective ='reg:linear', colsample_bytree = 0.3, learning_rate = 0.1, max_depth = 5, alpha = 10, n_estimators = 10)"
   ]
  },
  {
   "cell_type": "code",
   "execution_count": 321,
   "metadata": {},
   "outputs": [
    {
     "name": "stdout",
     "output_type": "stream",
     "text": [
      "[02:41:48] WARNING: src/objective/regression_obj.cu:152: reg:linear is now deprecated in favor of reg:squarederror.\n"
     ]
    },
    {
     "data": {
      "text/plain": [
       "XGBRegressor(alpha=10, colsample_bytree=0.3, max_depth=5, n_estimators=10)"
      ]
     },
     "execution_count": 321,
     "metadata": {},
     "output_type": "execute_result"
    }
   ],
   "source": [
    "xg_reg.fit(X_train,y_train)"
   ]
  },
  {
   "cell_type": "code",
   "execution_count": 322,
   "metadata": {},
   "outputs": [],
   "source": [
    "preds = xg_reg.predict(X_test)"
   ]
  },
  {
   "cell_type": "code",
   "execution_count": 335,
   "metadata": {},
   "outputs": [
    {
     "name": "stdout",
     "output_type": "stream",
     "text": [
      "RMSE: 314.479355\n"
     ]
    }
   ],
   "source": [
    "rmse = np.sqrt(mean_squared_error(y_test, preds))\n",
    "print(\"RMSE: %f\" % (rmse))"
   ]
  },
  {
   "cell_type": "code",
   "execution_count": 326,
   "metadata": {},
   "outputs": [
    {
     "name": "stdout",
     "output_type": "stream",
     "text": [
      "[02:42:49] WARNING: src/objective/regression_obj.cu:152: reg:linear is now deprecated in favor of reg:squarederror.\n",
      "[02:42:49] WARNING: src/objective/regression_obj.cu:152: reg:linear is now deprecated in favor of reg:squarederror.\n",
      "[02:42:49] WARNING: src/objective/regression_obj.cu:152: reg:linear is now deprecated in favor of reg:squarederror.\n"
     ]
    }
   ],
   "source": [
    "params = {\"objective\":\"reg:linear\",'colsample_bytree': 0.3,'learning_rate': 0.1, 'max_depth': 5, 'alpha': 10}\n",
    "\n",
    "cv_results = xgb.cv(dtrain=data_dmatrix, params=params, nfold=3, num_boost_round=50,early_stopping_rounds=10,metrics=\"rmse\", as_pandas=True, seed=123)"
   ]
  },
  {
   "cell_type": "code",
   "execution_count": 327,
   "metadata": {},
   "outputs": [
    {
     "data": {
      "text/html": [
       "<div>\n",
       "<style scoped>\n",
       "    .dataframe tbody tr th:only-of-type {\n",
       "        vertical-align: middle;\n",
       "    }\n",
       "\n",
       "    .dataframe tbody tr th {\n",
       "        vertical-align: top;\n",
       "    }\n",
       "\n",
       "    .dataframe thead th {\n",
       "        text-align: right;\n",
       "    }\n",
       "</style>\n",
       "<table border=\"1\" class=\"dataframe\">\n",
       "  <thead>\n",
       "    <tr style=\"text-align: right;\">\n",
       "      <th></th>\n",
       "      <th>train-rmse-mean</th>\n",
       "      <th>train-rmse-std</th>\n",
       "      <th>test-rmse-mean</th>\n",
       "      <th>test-rmse-std</th>\n",
       "    </tr>\n",
       "  </thead>\n",
       "  <tbody>\n",
       "    <tr>\n",
       "      <td>0</td>\n",
       "      <td>1058.206767</td>\n",
       "      <td>64.603669</td>\n",
       "      <td>1057.823242</td>\n",
       "      <td>124.726259</td>\n",
       "    </tr>\n",
       "    <tr>\n",
       "      <td>1</td>\n",
       "      <td>960.673421</td>\n",
       "      <td>57.600467</td>\n",
       "      <td>968.869568</td>\n",
       "      <td>103.761460</td>\n",
       "    </tr>\n",
       "    <tr>\n",
       "      <td>2</td>\n",
       "      <td>872.138163</td>\n",
       "      <td>51.338745</td>\n",
       "      <td>881.335897</td>\n",
       "      <td>93.217980</td>\n",
       "    </tr>\n",
       "    <tr>\n",
       "      <td>3</td>\n",
       "      <td>791.770284</td>\n",
       "      <td>45.739959</td>\n",
       "      <td>809.261759</td>\n",
       "      <td>76.348025</td>\n",
       "    </tr>\n",
       "    <tr>\n",
       "      <td>4</td>\n",
       "      <td>718.817302</td>\n",
       "      <td>40.736435</td>\n",
       "      <td>738.360433</td>\n",
       "      <td>68.905041</td>\n",
       "    </tr>\n",
       "  </tbody>\n",
       "</table>\n",
       "</div>"
      ],
      "text/plain": [
       "   train-rmse-mean  train-rmse-std  test-rmse-mean  test-rmse-std\n",
       "0      1058.206767       64.603669     1057.823242     124.726259\n",
       "1       960.673421       57.600467      968.869568     103.761460\n",
       "2       872.138163       51.338745      881.335897      93.217980\n",
       "3       791.770284       45.739959      809.261759      76.348025\n",
       "4       718.817302       40.736435      738.360433      68.905041"
      ]
     },
     "execution_count": 327,
     "metadata": {},
     "output_type": "execute_result"
    }
   ],
   "source": [
    "cv_results.head()"
   ]
  },
  {
   "cell_type": "code",
   "execution_count": 328,
   "metadata": {},
   "outputs": [
    {
     "name": "stdout",
     "output_type": "stream",
     "text": [
      "49    173.498233\n",
      "Name: test-rmse-mean, dtype: float64\n"
     ]
    }
   ],
   "source": [
    "print((cv_results[\"test-rmse-mean\"]).tail(1))"
   ]
  },
  {
   "cell_type": "code",
   "execution_count": 331,
   "metadata": {},
   "outputs": [
    {
     "name": "stdout",
     "output_type": "stream",
     "text": [
      "[02:43:24] WARNING: src/objective/regression_obj.cu:152: reg:linear is now deprecated in favor of reg:squarederror.\n"
     ]
    },
    {
     "data": {
      "image/png": "[encoded data removed]",
      "text/plain": [
       "<Figure size 3600x720 with 1 Axes>"
      ]
     },
     "metadata": {
      "needs_background": "light"
     },
     "output_type": "display_data"
    }
   ],
   "source": [
    "xg_reg = xgb.train(params=params, dtrain=data_dmatrix, num_boost_round=10)\n",
    "xgb.plot_tree(xg_reg,num_trees=0)\n",
    "plt.rcParams['figure.figsize'] = [200, 10]\n",
    "plt.show()"
   ]
  },
  {
   "cell_type": "code",
   "execution_count": 333,
   "metadata": {},
   "outputs": [
    {
     "data": {
      "image/png": "[encoded data removed]",
      "text/plain": [
       "<Figure size 360x360 with 1 Axes>"
      ]
     },
     "metadata": {
      "needs_background": "light"
     },
     "output_type": "display_data"
    }
   ],
   "source": [
    "xgb.plot_importance(xg_reg)\n",
    "plt.rcParams['figure.figsize'] = [200, 5]\n",
    "plt.show()"
   ]
  },
  {
   "cell_type": "code",
   "execution_count": 338,
   "metadata": {},
   "outputs": [],
   "source": [
    "#Fazer regressão da CHina do egito e nerthelasn, com o ano junto.\n",
    "#Passar tudo isso para um arima classificar o resultado do target"
   ]
  },
  {
   "cell_type": "code",
   "execution_count": null,
   "metadata": {},
   "outputs": [],
   "source": []
  }
 ],
 "metadata": {
  "kernelspec": {
   "display_name": "Python 3",
   "language": "python",
   "name": "python3"
  },
  "language_info": {
   "codemirror_mode": {
    "name": "ipython",
    "version": 3
   },
   "file_extension": ".py",
   "mimetype": "text/x-python",
   "name": "python",
   "nbconvert_exporter": "python",
   "pygments_lexer": "ipython3",
   "version": "3.7.4"
  }
 },
 "nbformat": 4,
 "nbformat_minor": 2
}
