{
 "cells": [
  {
   "cell_type": "code",
   "execution_count": 59,
   "metadata": {},
   "outputs": [],
   "source": [
    "import pandas as pd\n",
    "import numpy as np\n",
    "import statistics \n",
    "\n",
    "import matplotlib.pyplot as plt\n",
    "import seaborn as sns\n",
    "\n",
    "from statsmodels.tsa.stattools import adfuller\n",
    "from statsmodels.tsa.seasonal import seasonal_decompose\n",
    "from statsmodels.tsa.arima_model import ARIMA\n",
    "from pandas.plotting import register_matplotlib_converters\n",
    "register_matplotlib_converters()\n",
    "\n",
    "plt.style.use('ggplot')\n",
    "%matplotlib inline"
   ]
  },
  {
   "cell_type": "markdown",
   "metadata": {},
   "source": [
    "# Case 1"
   ]
  },
  {
   "cell_type": "code",
   "execution_count": null,
   "metadata": {},
   "outputs": [],
   "source": []
  },
  {
   "cell_type": "code",
   "execution_count": 68,
   "metadata": {},
   "outputs": [],
   "source": [
    "df1 = pd.read_csv('TFP.csv')\n",
    "df1.year = pd.to_datetime(df1.year,format = '%Y', errors='raise')"
   ]
  },
  {
   "cell_type": "code",
   "execution_count": 109,
   "metadata": {},
   "outputs": [
    {
     "data": {
      "text/html": [
       "<div>\n",
       "<style scoped>\n",
       "    .dataframe tbody tr th:only-of-type {\n",
       "        vertical-align: middle;\n",
       "    }\n",
       "\n",
       "    .dataframe tbody tr th {\n",
       "        vertical-align: top;\n",
       "    }\n",
       "\n",
       "    .dataframe thead th {\n",
       "        text-align: right;\n",
       "    }\n",
       "</style>\n",
       "<table border=\"1\" class=\"dataframe\">\n",
       "  <thead>\n",
       "    <tr style=\"text-align: right;\">\n",
       "      <th></th>\n",
       "      <th>isocode</th>\n",
       "      <th>year</th>\n",
       "      <th>rtfpna</th>\n",
       "    </tr>\n",
       "  </thead>\n",
       "  <tbody>\n",
       "    <tr>\n",
       "      <td>0</td>\n",
       "      <td>USA</td>\n",
       "      <td>1950-01-01</td>\n",
       "      <td>0.617148</td>\n",
       "    </tr>\n",
       "    <tr>\n",
       "      <td>1</td>\n",
       "      <td>USA</td>\n",
       "      <td>1951-01-01</td>\n",
       "      <td>0.629588</td>\n",
       "    </tr>\n",
       "    <tr>\n",
       "      <td>2</td>\n",
       "      <td>USA</td>\n",
       "      <td>1952-01-01</td>\n",
       "      <td>0.638451</td>\n",
       "    </tr>\n",
       "    <tr>\n",
       "      <td>3</td>\n",
       "      <td>USA</td>\n",
       "      <td>1953-01-01</td>\n",
       "      <td>0.651858</td>\n",
       "    </tr>\n",
       "    <tr>\n",
       "      <td>4</td>\n",
       "      <td>USA</td>\n",
       "      <td>1954-01-01</td>\n",
       "      <td>0.646179</td>\n",
       "    </tr>\n",
       "  </tbody>\n",
       "</table>\n",
       "</div>"
      ],
      "text/plain": [
       "  isocode       year    rtfpna\n",
       "0     USA 1950-01-01  0.617148\n",
       "1     USA 1951-01-01  0.629588\n",
       "2     USA 1952-01-01  0.638451\n",
       "3     USA 1953-01-01  0.651858\n",
       "4     USA 1954-01-01  0.646179"
      ]
     },
     "execution_count": 109,
     "metadata": {},
     "output_type": "execute_result"
    }
   ],
   "source": [
    "country_grouped = df1.groupby('isocode')\n",
    "df1.head()"
   ]
  },
  {
   "cell_type": "code",
   "execution_count": 157,
   "metadata": {
    "scrolled": true
   },
   "outputs": [
    {
     "data": {
      "text/plain": [
       "<matplotlib.legend.Legend at 0x1f978883388>"
      ]
     },
     "execution_count": 157,
     "metadata": {},
     "output_type": "execute_result"
    },
    {
     "data": {
      "image/png": "[encoded data removed]",
      "text/plain": [
       "<Figure size 432x288 with 1 Axes>"
      ]
     },
     "metadata": {
      "needs_background": "light"
     },
     "output_type": "display_data"
    }
   ],
   "source": [
    "fig, ax = plt.subplots()\n",
    "country_grouped.apply(lambda x: ax.plot(x.year,x.rtfpna, label = x['isocode'].unique()))\n",
    "plt.title('rtfpna behavior over time')\n",
    "plt.xlabel('Years')\n",
    "plt.ylabel('rtfpna')\n",
    "ax.legend()"
   ]
  },
  {
   "cell_type": "markdown",
   "metadata": {},
   "source": [
    "TFP = Total factor productivity\n",
    "\n",
    "'produtividade total dos fatores a preços nacionais constantes'"
   ]
  },
  {
   "cell_type": "markdown",
   "metadata": {},
   "source": [
    "It is possible to see that the USA maintained steady growth throughout the historical series, while Mexico saw a fall that almost equaled the level of 1950.\n",
    "\n",
    "Canada advanced laterally over the years with a steady result between 0.9 and 1."
   ]
  },
  {
   "cell_type": "code",
   "execution_count": null,
   "metadata": {},
   "outputs": [],
   "source": []
  },
  {
   "cell_type": "code",
   "execution_count": 143,
   "metadata": {},
   "outputs": [],
   "source": [
    "diff = country_grouped.apply(lambda x: x.rtfpna - x.rtfpna.shift(-1))"
   ]
  },
  {
   "cell_type": "code",
   "execution_count": 158,
   "metadata": {},
   "outputs": [
    {
     "data": {
      "text/plain": [
       "isocode    \n",
       "CAN      62   -0.011788\n",
       "         63   -0.041366\n",
       "         64   -0.014169\n",
       "         65    0.035480\n",
       "         66   -0.052504\n",
       "                 ...   \n",
       "USA      57    0.008096\n",
       "         58    0.011761\n",
       "         59   -0.022725\n",
       "         60   -0.010929\n",
       "         61         NaN\n",
       "Name: rtfpna, Length: 186, dtype: float64"
      ]
     },
     "execution_count": 158,
     "metadata": {},
     "output_type": "execute_result"
    }
   ],
   "source": [
    "diff"
   ]
  },
  {
   "cell_type": "code",
   "execution_count": 127,
   "metadata": {},
   "outputs": [],
   "source": [
    "#a = df1[df1['isocode'] == 'USA']\n",
    "#a= a.drop(['isocode'],axis=1)"
   ]
  },
  {
   "cell_type": "code",
   "execution_count": 129,
   "metadata": {},
   "outputs": [
    {
     "data": {
      "text/plain": [
       "array([[<matplotlib.axes._subplots.AxesSubplot object at 0x000001F97803A848>]],\n",
       "      dtype=object)"
      ]
     },
     "execution_count": 129,
     "metadata": {},
     "output_type": "execute_result"
    },
    {
     "data": {
      "image/png": "[encoded data removed]",
      "text/plain": [
       "<Figure size 792x792 with 1 Axes>"
      ]
     },
     "metadata": {
      "needs_background": "light"
     },
     "output_type": "display_data"
    }
   ],
   "source": [
    "df1[df1.dtypes[(df1.dtypes==\"float64\")|(df1.dtypes==\"int64\")].index.values].hist(figsize=[11,11])"
   ]
  },
  {
   "cell_type": "markdown",
   "metadata": {},
   "source": [
    "# Case 2"
   ]
  },
  {
   "cell_type": "markdown",
   "metadata": {},
   "source": [
    "# Objetivos"
   ]
  },
  {
   "cell_type": "markdown",
   "metadata": {},
   "source": [
    "1 - Apresentar a evolução mensal e anual das exportações (de todos os estados e para todos os lugares) de ‘soybeans’, ‘soybean oil’ and ‘soybean meal’\n",
    "\n",
    "2 - Quais são os 3 produtos mais importantes exportados pelo Brazil nos últimos 5 anos?\n",
    "\n",
    "3 - Qual a principal rota de exportação do milho do brasil nos ultimos anos? A rota tem relação expressiva dependendo do produto?\n",
    "\n",
    "4 - Quais países são os maiores parceiros em milho e açucar dos últimos 3 anos?\n",
    "\n",
    "5 - Mostrar para cada produto do dataset quais os cinco estados mais importantes para exportação.\n",
    "\n",
    "6 - Baseado nos dados do covariantes, qual a estimativa de total de exportação de soybean_meal, e corn do Brasil dos próximos 11 anos? (2020-2030)."
   ]
  },
  {
   "cell_type": "code",
   "execution_count": null,
   "metadata": {},
   "outputs": [],
   "source": []
  },
  {
   "cell_type": "code",
   "execution_count": null,
   "metadata": {},
   "outputs": [],
   "source": []
  },
  {
   "cell_type": "markdown",
   "metadata": {},
   "source": [
    "# Case 2"
   ]
  },
  {
   "cell_type": "markdown",
   "metadata": {},
   "source": [
    "# Pre processing data"
   ]
  },
  {
   "cell_type": "code",
   "execution_count": 3,
   "metadata": {},
   "outputs": [],
   "source": [
    "df = pd.read_csv('data_comexstat.csv', sep=',', encoding = \"ISO-8859-1\")"
   ]
  },
  {
   "cell_type": "code",
   "execution_count": 4,
   "metadata": {},
   "outputs": [],
   "source": [
    "MILLION = 1000000"
   ]
  },
  {
   "cell_type": "code",
   "execution_count": 5,
   "metadata": {
    "scrolled": true
   },
   "outputs": [],
   "source": [
    "df.date = pd.to_datetime(df.date,yearfirst = True, errors='raise')"
   ]
  },
  {
   "cell_type": "code",
   "execution_count": 6,
   "metadata": {},
   "outputs": [],
   "source": [
    "#create dataframe indexed by date\n",
    "date_grouped = df.set_index('date')\n",
    "#date_grouped['year'] = date_grouped.index.year\n",
    "#date_grouped['month'] = date_grouped.index.month\n",
    "#date_grouped['year_month'] = date_grouped['year'].astype(str) + date_grouped['month'].astype(str)\n",
    "#date_grouped['day'] = date_grouped.index.day"
   ]
  },
  {
   "cell_type": "markdown",
   "metadata": {},
   "source": [
    "# 1 - Evoluation of exports"
   ]
  },
  {
   "cell_type": "markdown",
   "metadata": {},
   "source": [
    "As exportações apresentaram um aumento com o passar dos anos, e pela distribuição no gráfico é possível observar uma sasonalidade na produção (alguns messes apresentam uma grande queda nas exportações).\n",
    "\n",
    "E ainda possível identificar que se trata de uma distribuição não estacionária com tendência de crescimento."
   ]
  },
  {
   "cell_type": "code",
   "execution_count": 7,
   "metadata": {},
   "outputs": [],
   "source": [
    "#Validation product types and exportacion or importation\n",
    "item_1 = (((date_grouped['product'] == 'soybeans') | (date_grouped['product'] == 'soybean_oil') | (date_grouped['product'] == 'soybean_meal')) & (date_grouped['type'] == 'Export'))\n",
    "sampled_item_1 = date_grouped.apply(lambda x: x[item_1])"
   ]
  },
  {
   "cell_type": "code",
   "execution_count": 8,
   "metadata": {},
   "outputs": [],
   "source": [
    "#a = sampled_item_1.groupby(sampled_item_1.year_month).apply(lambda x: x.tons)\n"
   ]
  },
  {
   "cell_type": "code",
   "execution_count": 9,
   "metadata": {},
   "outputs": [
    {
     "data": {
      "text/html": [
       "<div>\n",
       "<style scoped>\n",
       "    .dataframe tbody tr th:only-of-type {\n",
       "        vertical-align: middle;\n",
       "    }\n",
       "\n",
       "    .dataframe tbody tr th {\n",
       "        vertical-align: top;\n",
       "    }\n",
       "\n",
       "    .dataframe thead th {\n",
       "        text-align: right;\n",
       "    }\n",
       "</style>\n",
       "<table border=\"1\" class=\"dataframe\">\n",
       "  <thead>\n",
       "    <tr style=\"text-align: right;\">\n",
       "      <th></th>\n",
       "      <th>product</th>\n",
       "      <th>state</th>\n",
       "      <th>country</th>\n",
       "      <th>type</th>\n",
       "      <th>route</th>\n",
       "      <th>tons</th>\n",
       "      <th>usd</th>\n",
       "    </tr>\n",
       "    <tr>\n",
       "      <th>date</th>\n",
       "      <th></th>\n",
       "      <th></th>\n",
       "      <th></th>\n",
       "      <th></th>\n",
       "      <th></th>\n",
       "      <th></th>\n",
       "      <th></th>\n",
       "    </tr>\n",
       "  </thead>\n",
       "  <tbody>\n",
       "    <tr>\n",
       "      <td>1997-01-01</td>\n",
       "      <td>soybean_meal</td>\n",
       "      <td>GO</td>\n",
       "      <td>Netherlands</td>\n",
       "      <td>Export</td>\n",
       "      <td>Sea</td>\n",
       "      <td>419.070</td>\n",
       "      <td>119318.0</td>\n",
       "    </tr>\n",
       "    <tr>\n",
       "      <td>1997-01-01</td>\n",
       "      <td>soybean_meal</td>\n",
       "      <td>GO</td>\n",
       "      <td>Netherlands</td>\n",
       "      <td>Export</td>\n",
       "      <td>Sea</td>\n",
       "      <td>5000.000</td>\n",
       "      <td>1414250.0</td>\n",
       "    </tr>\n",
       "    <tr>\n",
       "      <td>1997-01-01</td>\n",
       "      <td>soybean_meal</td>\n",
       "      <td>MS</td>\n",
       "      <td>Germany</td>\n",
       "      <td>Export</td>\n",
       "      <td>Sea</td>\n",
       "      <td>140.672</td>\n",
       "      <td>38378.0</td>\n",
       "    </tr>\n",
       "    <tr>\n",
       "      <td>1997-01-01</td>\n",
       "      <td>soybean_meal</td>\n",
       "      <td>MS</td>\n",
       "      <td>Hungary</td>\n",
       "      <td>Export</td>\n",
       "      <td>Sea</td>\n",
       "      <td>15000.000</td>\n",
       "      <td>4042100.0</td>\n",
       "    </tr>\n",
       "    <tr>\n",
       "      <td>1997-01-01</td>\n",
       "      <td>soybean_meal</td>\n",
       "      <td>MS</td>\n",
       "      <td>Netherlands</td>\n",
       "      <td>Export</td>\n",
       "      <td>Sea</td>\n",
       "      <td>14000.000</td>\n",
       "      <td>3850162.0</td>\n",
       "    </tr>\n",
       "    <tr>\n",
       "      <td>...</td>\n",
       "      <td>...</td>\n",
       "      <td>...</td>\n",
       "      <td>...</td>\n",
       "      <td>...</td>\n",
       "      <td>...</td>\n",
       "      <td>...</td>\n",
       "      <td>...</td>\n",
       "    </tr>\n",
       "    <tr>\n",
       "      <td>2019-12-01</td>\n",
       "      <td>soybeans</td>\n",
       "      <td>SP</td>\n",
       "      <td>Liberia</td>\n",
       "      <td>Export</td>\n",
       "      <td>Other</td>\n",
       "      <td>0.004</td>\n",
       "      <td>11.0</td>\n",
       "    </tr>\n",
       "    <tr>\n",
       "      <td>2019-12-01</td>\n",
       "      <td>soybeans</td>\n",
       "      <td>SP</td>\n",
       "      <td>Liberia</td>\n",
       "      <td>Export</td>\n",
       "      <td>Other</td>\n",
       "      <td>0.006</td>\n",
       "      <td>30.0</td>\n",
       "    </tr>\n",
       "    <tr>\n",
       "      <td>2019-12-01</td>\n",
       "      <td>soybeans</td>\n",
       "      <td>SP</td>\n",
       "      <td>Thailand</td>\n",
       "      <td>Export</td>\n",
       "      <td>Sea</td>\n",
       "      <td>146.499</td>\n",
       "      <td>52813.0</td>\n",
       "    </tr>\n",
       "    <tr>\n",
       "      <td>2019-12-01</td>\n",
       "      <td>soybeans</td>\n",
       "      <td>TO</td>\n",
       "      <td>China</td>\n",
       "      <td>Export</td>\n",
       "      <td>Sea</td>\n",
       "      <td>63731.482</td>\n",
       "      <td>22986541.0</td>\n",
       "    </tr>\n",
       "    <tr>\n",
       "      <td>2019-12-01</td>\n",
       "      <td>soybeans</td>\n",
       "      <td>TO</td>\n",
       "      <td>Japan</td>\n",
       "      <td>Export</td>\n",
       "      <td>Sea</td>\n",
       "      <td>4068.461</td>\n",
       "      <td>1418269.0</td>\n",
       "    </tr>\n",
       "  </tbody>\n",
       "</table>\n",
       "<p>54776 rows × 7 columns</p>\n",
       "</div>"
      ],
      "text/plain": [
       "                 product state      country    type  route       tons  \\\n",
       "date                                                                    \n",
       "1997-01-01  soybean_meal    GO  Netherlands  Export    Sea    419.070   \n",
       "1997-01-01  soybean_meal    GO  Netherlands  Export    Sea   5000.000   \n",
       "1997-01-01  soybean_meal    MS      Germany  Export    Sea    140.672   \n",
       "1997-01-01  soybean_meal    MS      Hungary  Export    Sea  15000.000   \n",
       "1997-01-01  soybean_meal    MS  Netherlands  Export    Sea  14000.000   \n",
       "...                  ...   ...          ...     ...    ...        ...   \n",
       "2019-12-01      soybeans    SP      Liberia  Export  Other      0.004   \n",
       "2019-12-01      soybeans    SP      Liberia  Export  Other      0.006   \n",
       "2019-12-01      soybeans    SP     Thailand  Export    Sea    146.499   \n",
       "2019-12-01      soybeans    TO        China  Export    Sea  63731.482   \n",
       "2019-12-01      soybeans    TO        Japan  Export    Sea   4068.461   \n",
       "\n",
       "                   usd  \n",
       "date                    \n",
       "1997-01-01    119318.0  \n",
       "1997-01-01   1414250.0  \n",
       "1997-01-01     38378.0  \n",
       "1997-01-01   4042100.0  \n",
       "1997-01-01   3850162.0  \n",
       "...                ...  \n",
       "2019-12-01        11.0  \n",
       "2019-12-01        30.0  \n",
       "2019-12-01     52813.0  \n",
       "2019-12-01  22986541.0  \n",
       "2019-12-01   1418269.0  \n",
       "\n",
       "[54776 rows x 7 columns]"
      ]
     },
     "execution_count": 9,
     "metadata": {},
     "output_type": "execute_result"
    }
   ],
   "source": [
    "sampled_item_1"
   ]
  },
  {
   "cell_type": "code",
   "execution_count": 10,
   "metadata": {},
   "outputs": [],
   "source": [
    "#date_grouped[date_grouped['product'] == 'soybean_meal']"
   ]
  },
  {
   "cell_type": "code",
   "execution_count": 11,
   "metadata": {},
   "outputs": [],
   "source": [
    "#Sum of exportancion by month\n",
    "exportacion = sampled_item_1['tons'].sum(level='date')/MILLION\n",
    "months = sampled_item_1.index.unique()"
   ]
  },
  {
   "cell_type": "code",
   "execution_count": 12,
   "metadata": {},
   "outputs": [
    {
     "name": "stderr",
     "output_type": "stream",
     "text": [
      "C:\\Users\\stiva\\AppData\\Local\\Continuum\\anaconda3\\lib\\site-packages\\pandas\\plotting\\_matplotlib\\converter.py:103: FutureWarning: Using an implicitly registered datetime converter for a matplotlib plotting method. The converter was registered by pandas on import. Future versions of pandas will require you to explicitly register matplotlib converters.\n",
      "\n",
      "To register the converters:\n",
      "\t>>> from pandas.plotting import register_matplotlib_converters\n",
      "\t>>> register_matplotlib_converters()\n",
      "  warnings.warn(msg, FutureWarning)\n"
     ]
    },
    {
     "data": {
      "text/plain": [
       "Text(0, 0.5, 'Tonnes (millions)')"
      ]
     },
     "execution_count": 12,
     "metadata": {},
     "output_type": "execute_result"
    },
    {
     "data": {
      "image/png": "[encoded data removed]",
      "text/plain": [
       "<Figure size 432x288 with 1 Axes>"
      ]
     },
     "metadata": {
      "needs_background": "light"
     },
     "output_type": "display_data"
    }
   ],
   "source": [
    "#Plot\n",
    "fig, ax = plt.subplots()\n",
    "plt.plot(months, exportacion)\n",
    "plt.title('Evolution of exports')\n",
    "plt.xlabel('Month/Year')\n",
    "plt.ylabel('Tonnes (millions)')"
   ]
  },
  {
   "cell_type": "code",
   "execution_count": null,
   "metadata": {},
   "outputs": [],
   "source": []
  },
  {
   "cell_type": "markdown",
   "metadata": {},
   "source": [
    "# 2 - Most importante products"
   ]
  },
  {
   "cell_type": "markdown",
   "metadata": {},
   "source": [
    "Produto mais exportado:\n",
    "\n",
    "Produto com maior retorno em dolares:"
   ]
  },
  {
   "cell_type": "code",
   "execution_count": 13,
   "metadata": {},
   "outputs": [],
   "source": [
    "item_2 = ((date_grouped.index.year >= 2014) & (date_grouped['type'] == 'Export'))"
   ]
  },
  {
   "cell_type": "code",
   "execution_count": 14,
   "metadata": {},
   "outputs": [],
   "source": [
    "sampled_item_2 = date_grouped.apply(lambda x: x[item_2])"
   ]
  },
  {
   "cell_type": "code",
   "execution_count": 15,
   "metadata": {},
   "outputs": [],
   "source": [
    "total = sampled_item_2.set_index('product')\n",
    "values_to_plot = total['tons'].sum(level='product')/1000\n",
    "products_by_usd = total['usd'].sum(level='product')/MILLION"
   ]
  },
  {
   "cell_type": "code",
   "execution_count": null,
   "metadata": {},
   "outputs": [],
   "source": []
  },
  {
   "cell_type": "code",
   "execution_count": 16,
   "metadata": {
    "scrolled": true
   },
   "outputs": [
    {
     "data": {
      "image/png": "[encoded data removed]",
      "text/plain": [
       "<Figure size 432x288 with 1 Axes>"
      ]
     },
     "metadata": {
      "needs_background": "light"
     },
     "output_type": "display_data"
    }
   ],
   "source": [
    "#Plot\n",
    "\n",
    "products = sampled_item_2['product'].unique()\n",
    "\n",
    "fig, ax = plt.subplots()\n",
    "plt.bar(products, values_to_plot, color = 'green' )\n",
    "fig.autofmt_xdate()\n",
    "plt.title('Export by products in the last 5 years')\n",
    "plt.xlabel('Products')\n",
    "plt.ylabel('Tonnes (thousands)')\n",
    "\n",
    "for i in range(len(products)):\n",
    "    plt.text(x = products[i],y = values_to_plot[i], s = int(values_to_plot[i]) )\n"
   ]
  },
  {
   "cell_type": "code",
   "execution_count": 17,
   "metadata": {
    "scrolled": true
   },
   "outputs": [
    {
     "data": {
      "image/png": "[encoded data removed]",
      "text/plain": [
       "<Figure size 432x288 with 1 Axes>"
      ]
     },
     "metadata": {
      "needs_background": "light"
     },
     "output_type": "display_data"
    }
   ],
   "source": [
    "products = sampled_item_2['product'].unique()\n",
    "\n",
    "fig, ax = plt.subplots()\n",
    "plt.bar(products, products_by_usd)\n",
    "fig.autofmt_xdate()\n",
    "plt.title('Value exported in millions')\n",
    "plt.xlabel('Products')\n",
    "plt.ylabel('Dollars (millions)')\n",
    "\n",
    "for i in range(len(products)):\n",
    "    plt.text(x = products[i],y = products_by_usd[i], s = int(products_by_usd[i]) )"
   ]
  },
  {
   "cell_type": "code",
   "execution_count": null,
   "metadata": {},
   "outputs": [],
   "source": []
  },
  {
   "cell_type": "markdown",
   "metadata": {},
   "source": [
    "# 3 - Routes of corn exportation "
   ]
  },
  {
   "cell_type": "markdown",
   "metadata": {},
   "source": [
    "The most importante route is Sea representing 95.6% of total corn exports in last 5 years.\n",
    "\n",
    "Sea exports represent the largest export channel for all types of products"
   ]
  },
  {
   "cell_type": "code",
   "execution_count": 18,
   "metadata": {},
   "outputs": [],
   "source": [
    "#Get last 5 years, exports and corn\n",
    "item_3 = ((date_grouped.index.year >= 2014) & (date_grouped['type'] == 'Export') & (date_grouped['product'] == 'corn'))\n",
    "item_3_1 = ((date_grouped.index.year >= 2014) & (date_grouped['type'] == 'Export'))"
   ]
  },
  {
   "cell_type": "code",
   "execution_count": 19,
   "metadata": {},
   "outputs": [],
   "source": [
    "sampled_item_3 = date_grouped.apply(lambda x: x[item_3])\n",
    "sampled_item_3_1 = date_grouped.apply(lambda x: x[item_3_1])"
   ]
  },
  {
   "cell_type": "code",
   "execution_count": 20,
   "metadata": {},
   "outputs": [],
   "source": [
    "routes_corn_export = sampled_item_3.groupby('route').apply(lambda x: x.tons.sum()/1000)"
   ]
  },
  {
   "cell_type": "code",
   "execution_count": 21,
   "metadata": {},
   "outputs": [
    {
     "data": {
      "text/plain": [
       "95.6621529645743"
      ]
     },
     "execution_count": 21,
     "metadata": {},
     "output_type": "execute_result"
    }
   ],
   "source": [
    "#Sea representation export \n",
    "routes_corn_export['Sea']/routes_corn_export.sum()*100"
   ]
  },
  {
   "cell_type": "code",
   "execution_count": null,
   "metadata": {},
   "outputs": [],
   "source": []
  },
  {
   "cell_type": "code",
   "execution_count": 22,
   "metadata": {},
   "outputs": [],
   "source": [
    "#Function do calcule the tonnes exported by product\n",
    "def route_importance(df_product):\n",
    "    return df_product.groupby('route').apply(lambda x: x.tons.sum()/1000)\n",
    "\n",
    "route_export = sampled_item_3_1.groupby('product').apply(route_importance)"
   ]
  },
  {
   "cell_type": "code",
   "execution_count": 23,
   "metadata": {},
   "outputs": [
    {
     "data": {
      "text/html": [
       "<div>\n",
       "<style scoped>\n",
       "    .dataframe tbody tr th:only-of-type {\n",
       "        vertical-align: middle;\n",
       "    }\n",
       "\n",
       "    .dataframe tbody tr th {\n",
       "        vertical-align: top;\n",
       "    }\n",
       "\n",
       "    .dataframe thead th {\n",
       "        text-align: right;\n",
       "    }\n",
       "</style>\n",
       "<table border=\"1\" class=\"dataframe\">\n",
       "  <thead>\n",
       "    <tr style=\"text-align: right;\">\n",
       "      <th></th>\n",
       "      <th></th>\n",
       "      <th>tonnes</th>\n",
       "    </tr>\n",
       "    <tr>\n",
       "      <th>product</th>\n",
       "      <th>route</th>\n",
       "      <th></th>\n",
       "    </tr>\n",
       "  </thead>\n",
       "  <tbody>\n",
       "    <tr>\n",
       "      <td rowspan=\"5\" valign=\"top\">corn</td>\n",
       "      <td>Air</td>\n",
       "      <td>10.269443</td>\n",
       "    </tr>\n",
       "    <tr>\n",
       "      <td>Ground</td>\n",
       "      <td>84.742677</td>\n",
       "    </tr>\n",
       "    <tr>\n",
       "      <td>Other</td>\n",
       "      <td>268.070581</td>\n",
       "    </tr>\n",
       "    <tr>\n",
       "      <td>River</td>\n",
       "      <td>6804.322840</td>\n",
       "    </tr>\n",
       "    <tr>\n",
       "      <td>Sea</td>\n",
       "      <td>158062.153788</td>\n",
       "    </tr>\n",
       "    <tr>\n",
       "      <td rowspan=\"5\" valign=\"top\">soybean_meal</td>\n",
       "      <td>Air</td>\n",
       "      <td>22.025387</td>\n",
       "    </tr>\n",
       "    <tr>\n",
       "      <td>Ground</td>\n",
       "      <td>8.625618</td>\n",
       "    </tr>\n",
       "    <tr>\n",
       "      <td>Other</td>\n",
       "      <td>91.497169</td>\n",
       "    </tr>\n",
       "    <tr>\n",
       "      <td>River</td>\n",
       "      <td>0.197400</td>\n",
       "    </tr>\n",
       "    <tr>\n",
       "      <td>Sea</td>\n",
       "      <td>90241.465265</td>\n",
       "    </tr>\n",
       "    <tr>\n",
       "      <td rowspan=\"5\" valign=\"top\">soybean_oil</td>\n",
       "      <td>Air</td>\n",
       "      <td>0.002977</td>\n",
       "    </tr>\n",
       "    <tr>\n",
       "      <td>Ground</td>\n",
       "      <td>147.568310</td>\n",
       "    </tr>\n",
       "    <tr>\n",
       "      <td>Other</td>\n",
       "      <td>30.132451</td>\n",
       "    </tr>\n",
       "    <tr>\n",
       "      <td>River</td>\n",
       "      <td>4.172127</td>\n",
       "    </tr>\n",
       "    <tr>\n",
       "      <td>Sea</td>\n",
       "      <td>7833.152083</td>\n",
       "    </tr>\n",
       "    <tr>\n",
       "      <td rowspan=\"5\" valign=\"top\">soybeans</td>\n",
       "      <td>Air</td>\n",
       "      <td>0.060873</td>\n",
       "    </tr>\n",
       "    <tr>\n",
       "      <td>Ground</td>\n",
       "      <td>102.726098</td>\n",
       "    </tr>\n",
       "    <tr>\n",
       "      <td>Other</td>\n",
       "      <td>1519.020844</td>\n",
       "    </tr>\n",
       "    <tr>\n",
       "      <td>River</td>\n",
       "      <td>9444.940451</td>\n",
       "    </tr>\n",
       "    <tr>\n",
       "      <td>Sea</td>\n",
       "      <td>360951.896367</td>\n",
       "    </tr>\n",
       "    <tr>\n",
       "      <td rowspan=\"5\" valign=\"top\">sugar</td>\n",
       "      <td>Air</td>\n",
       "      <td>0.033086</td>\n",
       "    </tr>\n",
       "    <tr>\n",
       "      <td>Ground</td>\n",
       "      <td>742.326864</td>\n",
       "    </tr>\n",
       "    <tr>\n",
       "      <td>Other</td>\n",
       "      <td>51.614345</td>\n",
       "    </tr>\n",
       "    <tr>\n",
       "      <td>River</td>\n",
       "      <td>46.786306</td>\n",
       "    </tr>\n",
       "    <tr>\n",
       "      <td>Sea</td>\n",
       "      <td>143151.635013</td>\n",
       "    </tr>\n",
       "    <tr>\n",
       "      <td rowspan=\"4\" valign=\"top\">wheat</td>\n",
       "      <td>Air</td>\n",
       "      <td>0.001299</td>\n",
       "    </tr>\n",
       "    <tr>\n",
       "      <td>Ground</td>\n",
       "      <td>39.585222</td>\n",
       "    </tr>\n",
       "    <tr>\n",
       "      <td>Other</td>\n",
       "      <td>0.013718</td>\n",
       "    </tr>\n",
       "    <tr>\n",
       "      <td>Sea</td>\n",
       "      <td>4123.251726</td>\n",
       "    </tr>\n",
       "  </tbody>\n",
       "</table>\n",
       "</div>"
      ],
      "text/plain": [
       "                            tonnes\n",
       "product      route                \n",
       "corn         Air         10.269443\n",
       "             Ground      84.742677\n",
       "             Other      268.070581\n",
       "             River     6804.322840\n",
       "             Sea     158062.153788\n",
       "soybean_meal Air         22.025387\n",
       "             Ground       8.625618\n",
       "             Other       91.497169\n",
       "             River        0.197400\n",
       "             Sea      90241.465265\n",
       "soybean_oil  Air          0.002977\n",
       "             Ground     147.568310\n",
       "             Other       30.132451\n",
       "             River        4.172127\n",
       "             Sea       7833.152083\n",
       "soybeans     Air          0.060873\n",
       "             Ground     102.726098\n",
       "             Other     1519.020844\n",
       "             River     9444.940451\n",
       "             Sea     360951.896367\n",
       "sugar        Air          0.033086\n",
       "             Ground     742.326864\n",
       "             Other       51.614345\n",
       "             River       46.786306\n",
       "             Sea     143151.635013\n",
       "wheat        Air          0.001299\n",
       "             Ground      39.585222\n",
       "             Other        0.013718\n",
       "             Sea       4123.251726"
      ]
     },
     "execution_count": 23,
     "metadata": {},
     "output_type": "execute_result"
    }
   ],
   "source": [
    "#Show the values os each route of export by product\n",
    "pd.DataFrame(route_export, columns=['tonnes'])"
   ]
  },
  {
   "cell_type": "code",
   "execution_count": null,
   "metadata": {},
   "outputs": [],
   "source": []
  },
  {
   "cell_type": "code",
   "execution_count": null,
   "metadata": {},
   "outputs": [],
   "source": []
  },
  {
   "cell_type": "code",
   "execution_count": 24,
   "metadata": {},
   "outputs": [
    {
     "data": {
      "image/png": "[encoded data removed]",
      "text/plain": [
       "<Figure size 432x288 with 1 Axes>"
      ]
     },
     "metadata": {
      "needs_background": "light"
     },
     "output_type": "display_data"
    }
   ],
   "source": [
    "routes = sampled_item_3['route'].unique()\n",
    "routes = np.sort(routes)\n",
    "\n",
    "fig, ax = plt.subplots()\n",
    "plt.bar(routes, routes_corn_export)\n",
    "fig.autofmt_xdate()\n",
    "plt.title('Corn Tonnes exported in last 5 years')\n",
    "plt.xlabel('Routes')\n",
    "plt.ylabel('Tonnes (thousands)')\n",
    "\n",
    "for i in range(len(routes)):\n",
    "    plt.text(x = routes[i], y = routes_corn_export[i], s = int(routes_corn_export[i]) )"
   ]
  },
  {
   "cell_type": "code",
   "execution_count": null,
   "metadata": {},
   "outputs": [],
   "source": []
  },
  {
   "cell_type": "markdown",
   "metadata": {},
   "source": [
    "# 4 - Most important partens with corn and sugar"
   ]
  },
  {
   "cell_type": "markdown",
   "metadata": {},
   "source": [
    "173 countries are realized importation or exportation with Brazil considering sugar or corn after 2016 (3 yeas ago), was analised the top 10 countries using total of tonnes exported and total usd (dollars) movimented.\n",
    "\n",
    "It was possible to identify that Iran was the principal destiny of exportation of theses products (23.3 millions of tonnes), and bigest font of usd (4.3 billions).\n",
    "The second most import country was Egypt considering total of tonnes, but in relation with dollars payed to Brazil is the 4°.\n",
    "\n",
    "Considering the importation the values are much smaller, the bigest value in tonnes is with Paraguay (4.3 millions of tonnes), and 602 millions of dollars."
   ]
  },
  {
   "cell_type": "code",
   "execution_count": 25,
   "metadata": {},
   "outputs": [],
   "source": [
    "#relationship_between_countries\n",
    "rbc = pd.DataFrame()"
   ]
  },
  {
   "cell_type": "code",
   "execution_count": 26,
   "metadata": {},
   "outputs": [],
   "source": [
    "item_4 = (((date_grouped['product'] == 'corn') | (date_grouped['product'] == 'sugar')) & (date_grouped.index.year >= 2016))"
   ]
  },
  {
   "cell_type": "code",
   "execution_count": 27,
   "metadata": {},
   "outputs": [],
   "source": [
    "sampled_item_4 = date_grouped.apply(lambda x: x[item_4])"
   ]
  },
  {
   "cell_type": "code",
   "execution_count": 28,
   "metadata": {},
   "outputs": [],
   "source": [
    "#Function to calcule the total of tonnes imported and exported per each country\n",
    "def total_negotiation_export(df_country):\n",
    "    export_total = df_country[df_country['type'] == 'Export']['tons'].sum()/MILLION\n",
    "    return export_total\n",
    "\n",
    "def total_negotiation_import(df_country):\n",
    "    import_total = df_country[df_country['type'] == 'Import']['tons'].sum()/MILLION\n",
    "    return import_total"
   ]
  },
  {
   "cell_type": "code",
   "execution_count": 29,
   "metadata": {},
   "outputs": [],
   "source": [
    "#Function to calcule the total of USD (dollars) imported and exported per each country\n",
    "def total_usd_export(df_country):\n",
    "    export_total_usd = df_country[df_country['type'] == 'Export']['usd'].sum()/1000000000\n",
    "    return export_total_usd\n",
    "\n",
    "def total_usd_import(df_country):\n",
    "    import_total_usd = df_country[df_country['type'] == 'Import']['usd'].sum()/MILLION\n",
    "    return import_total_usd"
   ]
  },
  {
   "cell_type": "code",
   "execution_count": 30,
   "metadata": {},
   "outputs": [],
   "source": [
    "#Apply the functions to sum\n",
    "rbc['export_total'] = sampled_item_4.groupby('country').apply(total_negotiation_export)\n",
    "rbc['import_total'] = sampled_item_4.groupby('country').apply(total_negotiation_import)\n",
    "\n",
    "rbc['export_total_usd'] = sampled_item_4.groupby('country').apply(total_usd_export)\n",
    "rbc['import_total_usd'] = sampled_item_4.groupby('country').apply(total_usd_import)"
   ]
  },
  {
   "cell_type": "code",
   "execution_count": 31,
   "metadata": {},
   "outputs": [],
   "source": [
    "#Get the top 5 countries in import and export by tonnes and usd\n",
    "top_tons_export = rbc.sort_values('export_total',ascending=False).head(10)\n",
    "top_tons_import = rbc.sort_values('import_total',ascending=False).head(10)\n",
    "\n",
    "top_usd_export = rbc.sort_values('export_total_usd',ascending=False).head(10)\n",
    "top_usd_import = rbc.sort_values('import_total_usd',ascending=False).head(10)"
   ]
  },
  {
   "cell_type": "code",
   "execution_count": 58,
   "metadata": {},
   "outputs": [
    {
     "data": {
      "image/png": "[encoded data removed]",
      "text/plain": [
       "<Figure size 1080x720 with 2 Axes>"
      ]
     },
     "metadata": {
      "needs_background": "light"
     },
     "output_type": "display_data"
    }
   ],
   "source": [
    "fig, axs = plt.subplots(2, 1, constrained_layout=True,figsize=(15,10))\n",
    "\n",
    "#Plot 1\n",
    "axs[0].bar(top_tons_export.index, top_tons_export['export_total'])\n",
    "axs[0].set_title('Top 10 countries with more exports (tonnes)')\n",
    "axs[0].set_xlabel('Countries')\n",
    "axs[0].set_ylabel('Tonnes (millions)')\n",
    "\n",
    "for i in range(len(top_tons_export)):\n",
    "    axs[0].text(x = top_tons_export.index[i], y = top_tons_export['export_total'][i], s = \"{:.1f}\".format((top_tons_export['export_total'][i])))\n",
    "    \n",
    "#Plot 2\n",
    "axs[1].bar(top_usd_export.index, top_usd_export['export_total_usd'], color = 'green')\n",
    "axs[1].set_title('Top 10 countries with more exports (dollars)')\n",
    "axs[1].set_xlabel('Countries')\n",
    "axs[1].set_ylabel('Dollars (billions)')\n",
    "\n",
    "for i in range(len(top_tons_export)):\n",
    "    axs[1].text(x = top_usd_export.index[i], y = top_usd_export['export_total_usd'][i], s = \"{:.2f}\".format((top_usd_export['export_total_usd'][i])))\n",
    "    \n",
    "fig.suptitle('Most important countries', fontsize=16)\n",
    "\n",
    "plt.show()"
   ]
  },
  {
   "cell_type": "code",
   "execution_count": null,
   "metadata": {
    "scrolled": true
   },
   "outputs": [],
   "source": []
  },
  {
   "cell_type": "code",
   "execution_count": null,
   "metadata": {},
   "outputs": [],
   "source": []
  },
  {
   "cell_type": "code",
   "execution_count": 33,
   "metadata": {},
   "outputs": [
    {
     "data": {
      "text/html": [
       "<div>\n",
       "<style scoped>\n",
       "    .dataframe tbody tr th:only-of-type {\n",
       "        vertical-align: middle;\n",
       "    }\n",
       "\n",
       "    .dataframe tbody tr th {\n",
       "        vertical-align: top;\n",
       "    }\n",
       "\n",
       "    .dataframe thead th {\n",
       "        text-align: right;\n",
       "    }\n",
       "</style>\n",
       "<table border=\"1\" class=\"dataframe\">\n",
       "  <thead>\n",
       "    <tr style=\"text-align: right;\">\n",
       "      <th></th>\n",
       "      <th>export_total</th>\n",
       "      <th>import_total</th>\n",
       "      <th>export_total_usd</th>\n",
       "      <th>import_total_usd</th>\n",
       "    </tr>\n",
       "    <tr>\n",
       "      <th>country</th>\n",
       "      <th></th>\n",
       "      <th></th>\n",
       "      <th></th>\n",
       "      <th></th>\n",
       "    </tr>\n",
       "  </thead>\n",
       "  <tbody>\n",
       "    <tr>\n",
       "      <td>Paraguay</td>\n",
       "      <td>0.107062</td>\n",
       "      <td>4.307481</td>\n",
       "      <td>0.150100</td>\n",
       "      <td>602.728932</td>\n",
       "    </tr>\n",
       "    <tr>\n",
       "      <td>Argentina</td>\n",
       "      <td>0.007612</td>\n",
       "      <td>2.137111</td>\n",
       "      <td>0.022978</td>\n",
       "      <td>396.012398</td>\n",
       "    </tr>\n",
       "    <tr>\n",
       "      <td>United States</td>\n",
       "      <td>1.688463</td>\n",
       "      <td>0.007377</td>\n",
       "      <td>0.808318</td>\n",
       "      <td>28.941893</td>\n",
       "    </tr>\n",
       "    <tr>\n",
       "      <td>Bolivia</td>\n",
       "      <td>0.032131</td>\n",
       "      <td>0.001667</td>\n",
       "      <td>0.019279</td>\n",
       "      <td>3.970951</td>\n",
       "    </tr>\n",
       "    <tr>\n",
       "      <td>Chile</td>\n",
       "      <td>0.437753</td>\n",
       "      <td>0.000940</td>\n",
       "      <td>0.142813</td>\n",
       "      <td>0.828143</td>\n",
       "    </tr>\n",
       "    <tr>\n",
       "      <td>Mexico</td>\n",
       "      <td>2.565935</td>\n",
       "      <td>0.000065</td>\n",
       "      <td>0.440084</td>\n",
       "      <td>0.781056</td>\n",
       "    </tr>\n",
       "    <tr>\n",
       "      <td>Italy</td>\n",
       "      <td>0.703510</td>\n",
       "      <td>0.000442</td>\n",
       "      <td>0.115976</td>\n",
       "      <td>0.533616</td>\n",
       "    </tr>\n",
       "    <tr>\n",
       "      <td>Netherlands</td>\n",
       "      <td>2.484760</td>\n",
       "      <td>0.000081</td>\n",
       "      <td>0.453534</td>\n",
       "      <td>0.308301</td>\n",
       "    </tr>\n",
       "    <tr>\n",
       "      <td>Germany</td>\n",
       "      <td>0.022942</td>\n",
       "      <td>0.000089</td>\n",
       "      <td>0.019266</td>\n",
       "      <td>0.295132</td>\n",
       "    </tr>\n",
       "    <tr>\n",
       "      <td>Switzerland</td>\n",
       "      <td>0.006247</td>\n",
       "      <td>0.000030</td>\n",
       "      <td>0.002660</td>\n",
       "      <td>0.233244</td>\n",
       "    </tr>\n",
       "  </tbody>\n",
       "</table>\n",
       "</div>"
      ],
      "text/plain": [
       "               export_total  import_total  export_total_usd  import_total_usd\n",
       "country                                                                      \n",
       "Paraguay           0.107062      4.307481          0.150100        602.728932\n",
       "Argentina          0.007612      2.137111          0.022978        396.012398\n",
       "United States      1.688463      0.007377          0.808318         28.941893\n",
       "Bolivia            0.032131      0.001667          0.019279          3.970951\n",
       "Chile              0.437753      0.000940          0.142813          0.828143\n",
       "Mexico             2.565935      0.000065          0.440084          0.781056\n",
       "Italy              0.703510      0.000442          0.115976          0.533616\n",
       "Netherlands        2.484760      0.000081          0.453534          0.308301\n",
       "Germany            0.022942      0.000089          0.019266          0.295132\n",
       "Switzerland        0.006247      0.000030          0.002660          0.233244"
      ]
     },
     "execution_count": 33,
     "metadata": {},
     "output_type": "execute_result"
    }
   ],
   "source": [
    "#Total imported (considering dollars)\n",
    "top_usd_import"
   ]
  },
  {
   "cell_type": "code",
   "execution_count": 34,
   "metadata": {},
   "outputs": [
    {
     "data": {
      "text/html": [
       "<div>\n",
       "<style scoped>\n",
       "    .dataframe tbody tr th:only-of-type {\n",
       "        vertical-align: middle;\n",
       "    }\n",
       "\n",
       "    .dataframe tbody tr th {\n",
       "        vertical-align: top;\n",
       "    }\n",
       "\n",
       "    .dataframe thead th {\n",
       "        text-align: right;\n",
       "    }\n",
       "</style>\n",
       "<table border=\"1\" class=\"dataframe\">\n",
       "  <thead>\n",
       "    <tr style=\"text-align: right;\">\n",
       "      <th></th>\n",
       "      <th>export_total</th>\n",
       "      <th>import_total</th>\n",
       "      <th>export_total_usd</th>\n",
       "      <th>import_total_usd</th>\n",
       "    </tr>\n",
       "    <tr>\n",
       "      <th>country</th>\n",
       "      <th></th>\n",
       "      <th></th>\n",
       "      <th></th>\n",
       "      <th></th>\n",
       "    </tr>\n",
       "  </thead>\n",
       "  <tbody>\n",
       "    <tr>\n",
       "      <td>Paraguay</td>\n",
       "      <td>0.107062</td>\n",
       "      <td>4.307481</td>\n",
       "      <td>0.150100</td>\n",
       "      <td>602.728932</td>\n",
       "    </tr>\n",
       "    <tr>\n",
       "      <td>Argentina</td>\n",
       "      <td>0.007612</td>\n",
       "      <td>2.137111</td>\n",
       "      <td>0.022978</td>\n",
       "      <td>396.012398</td>\n",
       "    </tr>\n",
       "    <tr>\n",
       "      <td>United States</td>\n",
       "      <td>1.688463</td>\n",
       "      <td>0.007377</td>\n",
       "      <td>0.808318</td>\n",
       "      <td>28.941893</td>\n",
       "    </tr>\n",
       "    <tr>\n",
       "      <td>Bolivia</td>\n",
       "      <td>0.032131</td>\n",
       "      <td>0.001667</td>\n",
       "      <td>0.019279</td>\n",
       "      <td>3.970951</td>\n",
       "    </tr>\n",
       "    <tr>\n",
       "      <td>Chile</td>\n",
       "      <td>0.437753</td>\n",
       "      <td>0.000940</td>\n",
       "      <td>0.142813</td>\n",
       "      <td>0.828143</td>\n",
       "    </tr>\n",
       "    <tr>\n",
       "      <td>Italy</td>\n",
       "      <td>0.703510</td>\n",
       "      <td>0.000442</td>\n",
       "      <td>0.115976</td>\n",
       "      <td>0.533616</td>\n",
       "    </tr>\n",
       "    <tr>\n",
       "      <td>Guatemala</td>\n",
       "      <td>0.382155</td>\n",
       "      <td>0.000320</td>\n",
       "      <td>0.062576</td>\n",
       "      <td>0.112903</td>\n",
       "    </tr>\n",
       "    <tr>\n",
       "      <td>Germany</td>\n",
       "      <td>0.022942</td>\n",
       "      <td>0.000089</td>\n",
       "      <td>0.019266</td>\n",
       "      <td>0.295132</td>\n",
       "    </tr>\n",
       "    <tr>\n",
       "      <td>Netherlands</td>\n",
       "      <td>2.484760</td>\n",
       "      <td>0.000081</td>\n",
       "      <td>0.453534</td>\n",
       "      <td>0.308301</td>\n",
       "    </tr>\n",
       "    <tr>\n",
       "      <td>Mexico</td>\n",
       "      <td>2.565935</td>\n",
       "      <td>0.000065</td>\n",
       "      <td>0.440084</td>\n",
       "      <td>0.781056</td>\n",
       "    </tr>\n",
       "  </tbody>\n",
       "</table>\n",
       "</div>"
      ],
      "text/plain": [
       "               export_total  import_total  export_total_usd  import_total_usd\n",
       "country                                                                      \n",
       "Paraguay           0.107062      4.307481          0.150100        602.728932\n",
       "Argentina          0.007612      2.137111          0.022978        396.012398\n",
       "United States      1.688463      0.007377          0.808318         28.941893\n",
       "Bolivia            0.032131      0.001667          0.019279          3.970951\n",
       "Chile              0.437753      0.000940          0.142813          0.828143\n",
       "Italy              0.703510      0.000442          0.115976          0.533616\n",
       "Guatemala          0.382155      0.000320          0.062576          0.112903\n",
       "Germany            0.022942      0.000089          0.019266          0.295132\n",
       "Netherlands        2.484760      0.000081          0.453534          0.308301\n",
       "Mexico             2.565935      0.000065          0.440084          0.781056"
      ]
     },
     "execution_count": 34,
     "metadata": {},
     "output_type": "execute_result"
    }
   ],
   "source": [
    "#Total imported (considering tonnes)\n",
    "top_tons_import"
   ]
  },
  {
   "cell_type": "code",
   "execution_count": null,
   "metadata": {},
   "outputs": [],
   "source": []
  },
  {
   "cell_type": "markdown",
   "metadata": {},
   "source": [
    "# 5 - most importante UF consediring exportation by product"
   ]
  },
  {
   "cell_type": "markdown",
   "metadata": {},
   "source": [
    "In almost all of the top 5, with the first in two categories.\n",
    "The state of PR is present in all the top 5, but its total production considering all UFs is still below MT.\n",
    "\n",
    "Variance in state of ESTADO, is the bigest showing that of all the products, this export is very concentrated on this platform"
   ]
  },
  {
   "cell_type": "code",
   "execution_count": 35,
   "metadata": {},
   "outputs": [],
   "source": [
    "item_5 = ((date_grouped['type'] == 'Export'))"
   ]
  },
  {
   "cell_type": "code",
   "execution_count": 36,
   "metadata": {},
   "outputs": [],
   "source": [
    "sampled_item_5 = date_grouped.apply(lambda x: x[item_5])"
   ]
  },
  {
   "cell_type": "code",
   "execution_count": 37,
   "metadata": {},
   "outputs": [],
   "source": [
    "#Get the first bigest values in tonnes per each state\n",
    "def sum_by_UF(df_product):\n",
    "    return df_product.groupby('state').apply(lambda x: x['tons'].sum()/1000000).sort_values(ascending=False).nlargest(5)"
   ]
  },
  {
   "cell_type": "code",
   "execution_count": 38,
   "metadata": {},
   "outputs": [],
   "source": [
    "state_values = sampled_item_5.groupby('product').apply(lambda x: sum_by_UF(x))\n",
    "index = state_values.index"
   ]
  },
  {
   "cell_type": "code",
   "execution_count": 39,
   "metadata": {},
   "outputs": [],
   "source": [
    "#Most Importante States\n",
    "mis = pd.DataFrame(state_values.values, columns=['tons'], index=index)"
   ]
  },
  {
   "cell_type": "code",
   "execution_count": null,
   "metadata": {},
   "outputs": [],
   "source": []
  },
  {
   "cell_type": "code",
   "execution_count": 40,
   "metadata": {},
   "outputs": [],
   "source": [
    "def states_metrics(actual_product):\n",
    "    actual_product_values = mis[mis.index.get_level_values(0) == str(actual_product)]['tons'].values\n",
    "    actual_product_states = mis[mis.index.get_level_values(0) == str(actual_product)].index.get_level_values(1)\n",
    "    return actual_product_states, actual_product_values"
   ]
  },
  {
   "cell_type": "code",
   "execution_count": 41,
   "metadata": {},
   "outputs": [],
   "source": [
    "plot_state=[]\n",
    "for i in range(len(mis.index.get_level_values(0).unique())):\n",
    "    plot_state.append(states_metrics(mis.index.get_level_values(0).unique()[i]))"
   ]
  },
  {
   "cell_type": "code",
   "execution_count": 42,
   "metadata": {},
   "outputs": [],
   "source": [
    "#statistics.variance(plot_state[0][1])"
   ]
  },
  {
   "cell_type": "code",
   "execution_count": 43,
   "metadata": {},
   "outputs": [
    {
     "data": {
      "text/plain": [
       "Text(0.5, 0.98, 'Most important states by product export')"
      ]
     },
     "execution_count": 43,
     "metadata": {},
     "output_type": "execute_result"
    },
    {
     "data": {
      "image/png": "[encoded data removed]",
      "text/plain": [
       "<Figure size 1080x720 with 6 Axes>"
      ]
     },
     "metadata": {
      "needs_background": "light"
     },
     "output_type": "display_data"
    }
   ],
   "source": [
    "fig, axs = plt.subplots(2, 3, constrained_layout=True, figsize=(15,10))\n",
    "count = 0\n",
    "for i in range(2):\n",
    "    for j in range(3):\n",
    "        axs[i,j].bar(plot_state[count][0], plot_state[count][1])\n",
    "        axs[i,j].set_title(mis.index.get_level_values(0).unique()[count])\n",
    "        axs[i,j].set_xlabel('States')\n",
    "        axs[i,j].set_ylabel('Tonnes (millions)')\n",
    "\n",
    "        for k in range(len(plot_state[count][0])):\n",
    "            axs[i,j].text(x = plot_state[count][0][k], y = plot_state[count][1][k], s = \"{:.1f}\".format((plot_state[count][1][k])))\n",
    "        count+=1\n",
    "        \n",
    "fig.suptitle('Most important states by product export', fontsize=16)"
   ]
  },
  {
   "cell_type": "code",
   "execution_count": null,
   "metadata": {},
   "outputs": [],
   "source": []
  },
  {
   "cell_type": "markdown",
   "metadata": {},
   "source": [
    "#  6 - Predict"
   ]
  },
  {
   "cell_type": "code",
   "execution_count": null,
   "metadata": {},
   "outputs": [],
   "source": []
  },
  {
   "cell_type": "markdown",
   "metadata": {},
   "source": [
    "Por enquanto só com soja"
   ]
  },
  {
   "cell_type": "code",
   "execution_count": 44,
   "metadata": {},
   "outputs": [],
   "source": [
    "historical_serie = pd.read_excel('covariates.xlsx')"
   ]
  },
  {
   "cell_type": "code",
   "execution_count": 45,
   "metadata": {},
   "outputs": [
    {
     "data": {
      "text/html": [
       "<div>\n",
       "<style scoped>\n",
       "    .dataframe tbody tr th:only-of-type {\n",
       "        vertical-align: middle;\n",
       "    }\n",
       "\n",
       "    .dataframe tbody tr th {\n",
       "        vertical-align: top;\n",
       "    }\n",
       "\n",
       "    .dataframe thead th {\n",
       "        text-align: right;\n",
       "    }\n",
       "</style>\n",
       "<table border=\"1\" class=\"dataframe\">\n",
       "  <thead>\n",
       "    <tr style=\"text-align: right;\">\n",
       "      <th></th>\n",
       "      <th>year</th>\n",
       "      <th>price_soybeans</th>\n",
       "      <th>price_corn</th>\n",
       "      <th>price_soybean_meal</th>\n",
       "      <th>gdp_china</th>\n",
       "      <th>gdp_iran</th>\n",
       "      <th>gpd_netherlands</th>\n",
       "      <th>gdp_spain</th>\n",
       "      <th>gdp_thailand</th>\n",
       "      <th>gdp_world</th>\n",
       "      <th>gdp_egypt</th>\n",
       "      <th>gdp_japan</th>\n",
       "      <th>gdp_vietnam</th>\n",
       "    </tr>\n",
       "  </thead>\n",
       "  <tbody>\n",
       "    <tr>\n",
       "      <td>0</td>\n",
       "      <td>1979</td>\n",
       "      <td>NaN</td>\n",
       "      <td>NaN</td>\n",
       "      <td>NaN</td>\n",
       "      <td>100.000000</td>\n",
       "      <td>100.000000</td>\n",
       "      <td>NaN</td>\n",
       "      <td>100.000000</td>\n",
       "      <td>100.000000</td>\n",
       "      <td>100.000000</td>\n",
       "      <td>100.000000</td>\n",
       "      <td>100.000000</td>\n",
       "      <td>100.000000</td>\n",
       "    </tr>\n",
       "    <tr>\n",
       "      <td>1</td>\n",
       "      <td>1980</td>\n",
       "      <td>100.000000</td>\n",
       "      <td>100.000000</td>\n",
       "      <td>100.000000</td>\n",
       "      <td>107.900000</td>\n",
       "      <td>81.200000</td>\n",
       "      <td>100.000000</td>\n",
       "      <td>101.200000</td>\n",
       "      <td>104.600000</td>\n",
       "      <td>102.100000</td>\n",
       "      <td>103.400000</td>\n",
       "      <td>103.200000</td>\n",
       "      <td>96.500000</td>\n",
       "    </tr>\n",
       "    <tr>\n",
       "      <td>2</td>\n",
       "      <td>1981</td>\n",
       "      <td>98.525508</td>\n",
       "      <td>103.888308</td>\n",
       "      <td>99.805440</td>\n",
       "      <td>113.402900</td>\n",
       "      <td>74.216800</td>\n",
       "      <td>99.500000</td>\n",
       "      <td>100.795200</td>\n",
       "      <td>110.771400</td>\n",
       "      <td>104.039900</td>\n",
       "      <td>105.674800</td>\n",
       "      <td>107.534400</td>\n",
       "      <td>102.097000</td>\n",
       "    </tr>\n",
       "    <tr>\n",
       "      <td>3</td>\n",
       "      <td>1982</td>\n",
       "      <td>83.406192</td>\n",
       "      <td>85.986430</td>\n",
       "      <td>86.596956</td>\n",
       "      <td>123.609161</td>\n",
       "      <td>83.939201</td>\n",
       "      <td>98.206500</td>\n",
       "      <td>102.004742</td>\n",
       "      <td>116.753056</td>\n",
       "      <td>104.664139</td>\n",
       "      <td>113.389060</td>\n",
       "      <td>111.083035</td>\n",
       "      <td>110.468954</td>\n",
       "    </tr>\n",
       "    <tr>\n",
       "      <td>4</td>\n",
       "      <td>1983</td>\n",
       "      <td>97.851743</td>\n",
       "      <td>108.168059</td>\n",
       "      <td>98.663318</td>\n",
       "      <td>136.958950</td>\n",
       "      <td>95.522811</td>\n",
       "      <td>99.974217</td>\n",
       "      <td>103.738823</td>\n",
       "      <td>123.291227</td>\n",
       "      <td>107.594735</td>\n",
       "      <td>123.480687</td>\n",
       "      <td>114.970941</td>\n",
       "      <td>118.312250</td>\n",
       "    </tr>\n",
       "  </tbody>\n",
       "</table>\n",
       "</div>"
      ],
      "text/plain": [
       "   year  price_soybeans  price_corn  price_soybean_meal   gdp_china  \\\n",
       "0  1979             NaN         NaN                 NaN  100.000000   \n",
       "1  1980      100.000000  100.000000          100.000000  107.900000   \n",
       "2  1981       98.525508  103.888308           99.805440  113.402900   \n",
       "3  1982       83.406192   85.986430           86.596956  123.609161   \n",
       "4  1983       97.851743  108.168059           98.663318  136.958950   \n",
       "\n",
       "     gdp_iran  gpd_netherlands   gdp_spain  gdp_thailand   gdp_world  \\\n",
       "0  100.000000              NaN  100.000000    100.000000  100.000000   \n",
       "1   81.200000       100.000000  101.200000    104.600000  102.100000   \n",
       "2   74.216800        99.500000  100.795200    110.771400  104.039900   \n",
       "3   83.939201        98.206500  102.004742    116.753056  104.664139   \n",
       "4   95.522811        99.974217  103.738823    123.291227  107.594735   \n",
       "\n",
       "    gdp_egypt   gdp_japan  gdp_vietnam  \n",
       "0  100.000000  100.000000   100.000000  \n",
       "1  103.400000  103.200000    96.500000  \n",
       "2  105.674800  107.534400   102.097000  \n",
       "3  113.389060  111.083035   110.468954  \n",
       "4  123.480687  114.970941   118.312250  "
      ]
     },
     "execution_count": 45,
     "metadata": {},
     "output_type": "execute_result"
    }
   ],
   "source": [
    "historical_serie.head(5)"
   ]
  },
  {
   "cell_type": "code",
   "execution_count": 46,
   "metadata": {},
   "outputs": [],
   "source": [
    "#Anual exportation\n",
    "item_6 = ((date_grouped['type'] == 'Export') & (date_grouped['product'] == 'soybeans'))\n",
    "exportations = date_grouped.apply(lambda x: x[item_6])\n",
    "total_exportation = exportations.groupby(exportations.index.year).apply(lambda x: x['tons'].sum()/MILLION)"
   ]
  },
  {
   "cell_type": "code",
   "execution_count": 47,
   "metadata": {},
   "outputs": [],
   "source": [
    "#Model for forecast\n",
    "model = pd.DataFrame(total_exportation)\n",
    "model.reset_index(inplace=True)\n",
    "model.columns = ['year','total_exported']"
   ]
  },
  {
   "cell_type": "code",
   "execution_count": 48,
   "metadata": {
    "scrolled": true
   },
   "outputs": [
    {
     "data": {
      "text/html": [
       "<div>\n",
       "<style scoped>\n",
       "    .dataframe tbody tr th:only-of-type {\n",
       "        vertical-align: middle;\n",
       "    }\n",
       "\n",
       "    .dataframe tbody tr th {\n",
       "        vertical-align: top;\n",
       "    }\n",
       "\n",
       "    .dataframe thead th {\n",
       "        text-align: right;\n",
       "    }\n",
       "</style>\n",
       "<table border=\"1\" class=\"dataframe\">\n",
       "  <thead>\n",
       "    <tr style=\"text-align: right;\">\n",
       "      <th></th>\n",
       "      <th>year</th>\n",
       "      <th>price_soybeans</th>\n",
       "      <th>price_corn</th>\n",
       "      <th>price_soybean_meal</th>\n",
       "      <th>gdp_china</th>\n",
       "      <th>gdp_iran</th>\n",
       "      <th>gpd_netherlands</th>\n",
       "      <th>gdp_spain</th>\n",
       "      <th>gdp_thailand</th>\n",
       "      <th>gdp_world</th>\n",
       "      <th>gdp_egypt</th>\n",
       "      <th>gdp_japan</th>\n",
       "      <th>gdp_vietnam</th>\n",
       "    </tr>\n",
       "  </thead>\n",
       "  <tbody>\n",
       "    <tr>\n",
       "      <td>0</td>\n",
       "      <td>1979</td>\n",
       "      <td>NaN</td>\n",
       "      <td>NaN</td>\n",
       "      <td>NaN</td>\n",
       "      <td>100.000000</td>\n",
       "      <td>100.000000</td>\n",
       "      <td>NaN</td>\n",
       "      <td>100.000000</td>\n",
       "      <td>100.000000</td>\n",
       "      <td>100.000000</td>\n",
       "      <td>100.000000</td>\n",
       "      <td>100.000000</td>\n",
       "      <td>100.000000</td>\n",
       "    </tr>\n",
       "    <tr>\n",
       "      <td>1</td>\n",
       "      <td>1980</td>\n",
       "      <td>100.000000</td>\n",
       "      <td>100.000000</td>\n",
       "      <td>100.000000</td>\n",
       "      <td>107.900000</td>\n",
       "      <td>81.200000</td>\n",
       "      <td>100.000000</td>\n",
       "      <td>101.200000</td>\n",
       "      <td>104.600000</td>\n",
       "      <td>102.100000</td>\n",
       "      <td>103.400000</td>\n",
       "      <td>103.200000</td>\n",
       "      <td>96.500000</td>\n",
       "    </tr>\n",
       "    <tr>\n",
       "      <td>2</td>\n",
       "      <td>1981</td>\n",
       "      <td>98.525508</td>\n",
       "      <td>103.888308</td>\n",
       "      <td>99.805440</td>\n",
       "      <td>113.402900</td>\n",
       "      <td>74.216800</td>\n",
       "      <td>99.500000</td>\n",
       "      <td>100.795200</td>\n",
       "      <td>110.771400</td>\n",
       "      <td>104.039900</td>\n",
       "      <td>105.674800</td>\n",
       "      <td>107.534400</td>\n",
       "      <td>102.097000</td>\n",
       "    </tr>\n",
       "    <tr>\n",
       "      <td>3</td>\n",
       "      <td>1982</td>\n",
       "      <td>83.406192</td>\n",
       "      <td>85.986430</td>\n",
       "      <td>86.596956</td>\n",
       "      <td>123.609161</td>\n",
       "      <td>83.939201</td>\n",
       "      <td>98.206500</td>\n",
       "      <td>102.004742</td>\n",
       "      <td>116.753056</td>\n",
       "      <td>104.664139</td>\n",
       "      <td>113.389060</td>\n",
       "      <td>111.083035</td>\n",
       "      <td>110.468954</td>\n",
       "    </tr>\n",
       "    <tr>\n",
       "      <td>4</td>\n",
       "      <td>1983</td>\n",
       "      <td>97.851743</td>\n",
       "      <td>108.168059</td>\n",
       "      <td>98.663318</td>\n",
       "      <td>136.958950</td>\n",
       "      <td>95.522811</td>\n",
       "      <td>99.974217</td>\n",
       "      <td>103.738823</td>\n",
       "      <td>123.291227</td>\n",
       "      <td>107.594735</td>\n",
       "      <td>123.480687</td>\n",
       "      <td>114.970941</td>\n",
       "      <td>118.312250</td>\n",
       "    </tr>\n",
       "  </tbody>\n",
       "</table>\n",
       "</div>"
      ],
      "text/plain": [
       "   year  price_soybeans  price_corn  price_soybean_meal   gdp_china  \\\n",
       "0  1979             NaN         NaN                 NaN  100.000000   \n",
       "1  1980      100.000000  100.000000          100.000000  107.900000   \n",
       "2  1981       98.525508  103.888308           99.805440  113.402900   \n",
       "3  1982       83.406192   85.986430           86.596956  123.609161   \n",
       "4  1983       97.851743  108.168059           98.663318  136.958950   \n",
       "\n",
       "     gdp_iran  gpd_netherlands   gdp_spain  gdp_thailand   gdp_world  \\\n",
       "0  100.000000              NaN  100.000000    100.000000  100.000000   \n",
       "1   81.200000       100.000000  101.200000    104.600000  102.100000   \n",
       "2   74.216800        99.500000  100.795200    110.771400  104.039900   \n",
       "3   83.939201        98.206500  102.004742    116.753056  104.664139   \n",
       "4   95.522811        99.974217  103.738823    123.291227  107.594735   \n",
       "\n",
       "    gdp_egypt   gdp_japan  gdp_vietnam  \n",
       "0  100.000000  100.000000   100.000000  \n",
       "1  103.400000  103.200000    96.500000  \n",
       "2  105.674800  107.534400   102.097000  \n",
       "3  113.389060  111.083035   110.468954  \n",
       "4  123.480687  114.970941   118.312250  "
      ]
     },
     "execution_count": 48,
     "metadata": {},
     "output_type": "execute_result"
    }
   ],
   "source": [
    "historical_serie.head(5)"
   ]
  },
  {
   "cell_type": "code",
   "execution_count": 49,
   "metadata": {},
   "outputs": [],
   "source": [
    "def get_historical_values(row):\n",
    "    if model['year'].any([row]):\n",
    "        return row"
   ]
  },
  {
   "cell_type": "code",
   "execution_count": 50,
   "metadata": {},
   "outputs": [],
   "source": [
    "#historical_serie.applymap(lambda x: get_historical_values(x))"
   ]
  },
  {
   "cell_type": "code",
   "execution_count": 51,
   "metadata": {},
   "outputs": [],
   "source": [
    "#Necessário usar series estacionarias (fazer a diferença entre ontem e hj) invez do preço atual"
   ]
  },
  {
   "cell_type": "code",
   "execution_count": 52,
   "metadata": {},
   "outputs": [
    {
     "data": {
      "text/plain": [
       "True"
      ]
     },
     "execution_count": 52,
     "metadata": {},
     "output_type": "execute_result"
    }
   ],
   "source": [
    "model['year'].any()"
   ]
  },
  {
   "cell_type": "code",
   "execution_count": null,
   "metadata": {},
   "outputs": [],
   "source": []
  },
  {
   "cell_type": "code",
   "execution_count": null,
   "metadata": {},
   "outputs": [],
   "source": []
  },
  {
   "cell_type": "code",
   "execution_count": null,
   "metadata": {},
   "outputs": [],
   "source": []
  },
  {
   "cell_type": "code",
   "execution_count": null,
   "metadata": {},
   "outputs": [],
   "source": []
  },
  {
   "cell_type": "code",
   "execution_count": 53,
   "metadata": {},
   "outputs": [
    {
     "data": {
      "text/plain": [
       "2000"
      ]
     },
     "execution_count": 53,
     "metadata": {},
     "output_type": "execute_result"
    }
   ],
   "source": [
    "total_exportation[total_exportation.index == 2000].index[0]"
   ]
  }
 ],
 "metadata": {
  "kernelspec": {
   "display_name": "Python 3",
   "language": "python",
   "name": "python3"
  },
  "language_info": {
   "codemirror_mode": {
    "name": "ipython",
    "version": 3
   },
   "file_extension": ".py",
   "mimetype": "text/x-python",
   "name": "python",
   "nbconvert_exporter": "python",
   "pygments_lexer": "ipython3",
   "version": "3.7.4"
  }
 },
 "nbformat": 4,
 "nbformat_minor": 2
}
